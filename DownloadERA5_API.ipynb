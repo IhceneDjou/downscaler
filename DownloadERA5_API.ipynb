{
  "cells": [
    {
      "cell_type": "markdown",
      "metadata": {
        "id": "view-in-github",
        "colab_type": "text"
      },
      "source": [
        "<a href=\"https://colab.research.google.com/github/IhceneDjou/downscaler/blob/main/DownloadERA5_API.ipynb\" target=\"_parent\"><img src=\"https://colab.research.google.com/assets/colab-badge.svg\" alt=\"Open In Colab\"/></a>"
      ]
    },
    {
      "cell_type": "code",
      "execution_count": null,
      "metadata": {
        "colab": {
          "base_uri": "https://localhost:8080/"
        },
        "id": "0P40r87bXaMx",
        "outputId": "3ac3788a-745b-43c2-a299-146582d76be3"
      },
      "outputs": [
        {
          "output_type": "stream",
          "name": "stdout",
          "text": [
            "Collecting cdsapi\n",
            "  Downloading cdsapi-0.7.6-py2.py3-none-any.whl.metadata (3.0 kB)\n",
            "Collecting ecmwf-datastores-client (from cdsapi)\n",
            "  Downloading ecmwf_datastores_client-0.1.0-py3-none-any.whl.metadata (21 kB)\n",
            "Requirement already satisfied: requests>=2.5.0 in /usr/local/lib/python3.11/dist-packages (from cdsapi) (2.32.3)\n",
            "Requirement already satisfied: tqdm in /usr/local/lib/python3.11/dist-packages (from cdsapi) (4.67.1)\n",
            "Requirement already satisfied: charset-normalizer<4,>=2 in /usr/local/lib/python3.11/dist-packages (from requests>=2.5.0->cdsapi) (3.4.2)\n",
            "Requirement already satisfied: idna<4,>=2.5 in /usr/local/lib/python3.11/dist-packages (from requests>=2.5.0->cdsapi) (3.10)\n",
            "Requirement already satisfied: urllib3<3,>=1.21.1 in /usr/local/lib/python3.11/dist-packages (from requests>=2.5.0->cdsapi) (2.4.0)\n",
            "Requirement already satisfied: certifi>=2017.4.17 in /usr/local/lib/python3.11/dist-packages (from requests>=2.5.0->cdsapi) (2025.4.26)\n",
            "Requirement already satisfied: attrs in /usr/local/lib/python3.11/dist-packages (from ecmwf-datastores-client->cdsapi) (25.3.0)\n",
            "Collecting multiurl>=0.3.2 (from ecmwf-datastores-client->cdsapi)\n",
            "  Downloading multiurl-0.3.5-py3-none-any.whl.metadata (2.8 kB)\n",
            "Requirement already satisfied: typing-extensions in /usr/local/lib/python3.11/dist-packages (from ecmwf-datastores-client->cdsapi) (4.13.2)\n",
            "Requirement already satisfied: pytz in /usr/local/lib/python3.11/dist-packages (from multiurl>=0.3.2->ecmwf-datastores-client->cdsapi) (2025.2)\n",
            "Requirement already satisfied: python-dateutil in /usr/local/lib/python3.11/dist-packages (from multiurl>=0.3.2->ecmwf-datastores-client->cdsapi) (2.9.0.post0)\n",
            "Requirement already satisfied: six>=1.5 in /usr/local/lib/python3.11/dist-packages (from python-dateutil->multiurl>=0.3.2->ecmwf-datastores-client->cdsapi) (1.17.0)\n",
            "Downloading cdsapi-0.7.6-py2.py3-none-any.whl (12 kB)\n",
            "Downloading ecmwf_datastores_client-0.1.0-py3-none-any.whl (29 kB)\n",
            "Downloading multiurl-0.3.5-py3-none-any.whl (21 kB)\n",
            "Installing collected packages: multiurl, ecmwf-datastores-client, cdsapi\n",
            "Successfully installed cdsapi-0.7.6 ecmwf-datastores-client-0.1.0 multiurl-0.3.5\n"
          ]
        }
      ],
      "source": [
        "!pip install cdsapi"
      ]
    },
    {
      "cell_type": "code",
      "execution_count": null,
      "metadata": {
        "colab": {
          "base_uri": "https://localhost:8080/"
        },
        "id": "hJvIMs5r97zi",
        "outputId": "d76d6615-0159-4168-f1e3-4d0b569ae86b"
      },
      "outputs": [
        {
          "output_type": "stream",
          "name": "stdout",
          "text": [
            "Mounted at /content/drive\n"
          ]
        }
      ],
      "source": [
        "from google.colab import drive\n",
        "drive.mount('/content/drive')"
      ]
    },
    {
      "cell_type": "markdown",
      "metadata": {
        "id": "-0YJR_iWd_v0"
      },
      "source": [
        "# API Installing ERA5 LAND"
      ]
    },
    {
      "cell_type": "code",
      "execution_count": null,
      "metadata": {
        "colab": {
          "base_uri": "https://localhost:8080/"
        },
        "id": "cP-7nB3h-sDD",
        "outputId": "d3ebd46f-2fc7-4d09-ae88-8c537bc60207"
      },
      "outputs": [
        {
          "output_type": "stream",
          "name": "stdout",
          "text": [
            "✅ CDS API key saved successfully!\n"
          ]
        },
        {
          "output_type": "stream",
          "name": "stderr",
          "text": [
            "2025-06-01 10:26:21,729 INFO [2024-09-26T00:00:00] Watch our [Forum](https://forum.ecmwf.int/) for Announcements, news and other discussed topics.\n",
            "INFO:ecmwf.datastores.legacy_client:[2024-09-26T00:00:00] Watch our [Forum](https://forum.ecmwf.int/) for Announcements, news and other discussed topics.\n"
          ]
        },
        {
          "output_type": "stream",
          "name": "stdout",
          "text": [
            "🔄 Processing: 2011-01\n",
            "✔️ Already exists: /content/drive/MyDrive/ERA5_land_trentino_southTyrol_2011_2021/era5land_2011_01.nc\n",
            "🔄 Processing: 2011-02\n",
            "✔️ Already exists: /content/drive/MyDrive/ERA5_land_trentino_southTyrol_2011_2021/era5land_2011_02.nc\n",
            "🔄 Processing: 2011-03\n",
            "✔️ Already exists: /content/drive/MyDrive/ERA5_land_trentino_southTyrol_2011_2021/era5land_2011_03.nc\n",
            "🔄 Processing: 2011-04\n",
            "✔️ Already exists: /content/drive/MyDrive/ERA5_land_trentino_southTyrol_2011_2021/era5land_2011_04.nc\n",
            "🔄 Processing: 2011-05\n",
            "✔️ Already exists: /content/drive/MyDrive/ERA5_land_trentino_southTyrol_2011_2021/era5land_2011_05.nc\n",
            "🔄 Processing: 2011-06\n",
            "✔️ Already exists: /content/drive/MyDrive/ERA5_land_trentino_southTyrol_2011_2021/era5land_2011_06.nc\n",
            "🔄 Processing: 2011-07\n",
            "✔️ Already exists: /content/drive/MyDrive/ERA5_land_trentino_southTyrol_2011_2021/era5land_2011_07.nc\n",
            "🔄 Processing: 2011-08\n",
            "✔️ Already exists: /content/drive/MyDrive/ERA5_land_trentino_southTyrol_2011_2021/era5land_2011_08.nc\n",
            "🔄 Processing: 2011-09\n",
            "✔️ Already exists: /content/drive/MyDrive/ERA5_land_trentino_southTyrol_2011_2021/era5land_2011_09.nc\n",
            "🔄 Processing: 2011-10\n",
            "✔️ Already exists: /content/drive/MyDrive/ERA5_land_trentino_southTyrol_2011_2021/era5land_2011_10.nc\n",
            "🔄 Processing: 2011-11\n",
            "✔️ Already exists: /content/drive/MyDrive/ERA5_land_trentino_southTyrol_2011_2021/era5land_2011_11.nc\n",
            "🔄 Processing: 2011-12\n",
            "✔️ Already exists: /content/drive/MyDrive/ERA5_land_trentino_southTyrol_2011_2021/era5land_2011_12.nc\n",
            "🔄 Processing: 2012-01\n",
            "✔️ Already exists: /content/drive/MyDrive/ERA5_land_trentino_southTyrol_2011_2021/era5land_2012_01.nc\n",
            "🔄 Processing: 2012-02\n",
            "✔️ Already exists: /content/drive/MyDrive/ERA5_land_trentino_southTyrol_2011_2021/era5land_2012_02.nc\n",
            "🔄 Processing: 2012-03\n",
            "✔️ Already exists: /content/drive/MyDrive/ERA5_land_trentino_southTyrol_2011_2021/era5land_2012_03.nc\n",
            "🔄 Processing: 2012-04\n",
            "✔️ Already exists: /content/drive/MyDrive/ERA5_land_trentino_southTyrol_2011_2021/era5land_2012_04.nc\n",
            "🔄 Processing: 2012-05\n",
            "✔️ Already exists: /content/drive/MyDrive/ERA5_land_trentino_southTyrol_2011_2021/era5land_2012_05.nc\n",
            "🔄 Processing: 2012-06\n",
            "✔️ Already exists: /content/drive/MyDrive/ERA5_land_trentino_southTyrol_2011_2021/era5land_2012_06.nc\n",
            "🔄 Processing: 2012-07\n",
            "✔️ Already exists: /content/drive/MyDrive/ERA5_land_trentino_southTyrol_2011_2021/era5land_2012_07.nc\n",
            "🔄 Processing: 2012-08\n",
            "✔️ Already exists: /content/drive/MyDrive/ERA5_land_trentino_southTyrol_2011_2021/era5land_2012_08.nc\n",
            "🔄 Processing: 2012-09\n",
            "✔️ Already exists: /content/drive/MyDrive/ERA5_land_trentino_southTyrol_2011_2021/era5land_2012_09.nc\n",
            "🔄 Processing: 2012-10\n",
            "✔️ Already exists: /content/drive/MyDrive/ERA5_land_trentino_southTyrol_2011_2021/era5land_2012_10.nc\n",
            "🔄 Processing: 2012-11\n",
            "✔️ Already exists: /content/drive/MyDrive/ERA5_land_trentino_southTyrol_2011_2021/era5land_2012_11.nc\n",
            "🔄 Processing: 2012-12\n",
            "✔️ Already exists: /content/drive/MyDrive/ERA5_land_trentino_southTyrol_2011_2021/era5land_2012_12.nc\n",
            "🔄 Processing: 2013-01\n",
            "✔️ Already exists: /content/drive/MyDrive/ERA5_land_trentino_southTyrol_2011_2021/era5land_2013_01.nc\n",
            "🔄 Processing: 2013-02\n",
            "✔️ Already exists: /content/drive/MyDrive/ERA5_land_trentino_southTyrol_2011_2021/era5land_2013_02.nc\n",
            "🔄 Processing: 2013-03\n",
            "✔️ Already exists: /content/drive/MyDrive/ERA5_land_trentino_southTyrol_2011_2021/era5land_2013_03.nc\n",
            "🔄 Processing: 2013-04\n",
            "✔️ Already exists: /content/drive/MyDrive/ERA5_land_trentino_southTyrol_2011_2021/era5land_2013_04.nc\n",
            "🔄 Processing: 2013-05\n",
            "✔️ Already exists: /content/drive/MyDrive/ERA5_land_trentino_southTyrol_2011_2021/era5land_2013_05.nc\n",
            "🔄 Processing: 2013-06\n",
            "✔️ Already exists: /content/drive/MyDrive/ERA5_land_trentino_southTyrol_2011_2021/era5land_2013_06.nc\n",
            "🔄 Processing: 2013-07\n",
            "✔️ Already exists: /content/drive/MyDrive/ERA5_land_trentino_southTyrol_2011_2021/era5land_2013_07.nc\n",
            "🔄 Processing: 2013-08\n",
            "✔️ Already exists: /content/drive/MyDrive/ERA5_land_trentino_southTyrol_2011_2021/era5land_2013_08.nc\n",
            "🔄 Processing: 2013-09\n",
            "✔️ Already exists: /content/drive/MyDrive/ERA5_land_trentino_southTyrol_2011_2021/era5land_2013_09.nc\n",
            "🔄 Processing: 2013-10\n",
            "✔️ Already exists: /content/drive/MyDrive/ERA5_land_trentino_southTyrol_2011_2021/era5land_2013_10.nc\n",
            "🔄 Processing: 2013-11\n",
            "✔️ Already exists: /content/drive/MyDrive/ERA5_land_trentino_southTyrol_2011_2021/era5land_2013_11.nc\n",
            "🔄 Processing: 2013-12\n",
            "✔️ Already exists: /content/drive/MyDrive/ERA5_land_trentino_southTyrol_2011_2021/era5land_2013_12.nc\n",
            "🔄 Processing: 2014-01\n",
            "✔️ Already exists: /content/drive/MyDrive/ERA5_land_trentino_southTyrol_2011_2021/era5land_2014_01.nc\n",
            "🔄 Processing: 2014-02\n",
            "✔️ Already exists: /content/drive/MyDrive/ERA5_land_trentino_southTyrol_2011_2021/era5land_2014_02.nc\n",
            "🔄 Processing: 2014-03\n",
            "✔️ Already exists: /content/drive/MyDrive/ERA5_land_trentino_southTyrol_2011_2021/era5land_2014_03.nc\n",
            "🔄 Processing: 2014-04\n",
            "✔️ Already exists: /content/drive/MyDrive/ERA5_land_trentino_southTyrol_2011_2021/era5land_2014_04.nc\n",
            "🔄 Processing: 2014-05\n",
            "✔️ Already exists: /content/drive/MyDrive/ERA5_land_trentino_southTyrol_2011_2021/era5land_2014_05.nc\n",
            "🔄 Processing: 2014-06\n",
            "✔️ Already exists: /content/drive/MyDrive/ERA5_land_trentino_southTyrol_2011_2021/era5land_2014_06.nc\n",
            "🔄 Processing: 2014-07\n",
            "✔️ Already exists: /content/drive/MyDrive/ERA5_land_trentino_southTyrol_2011_2021/era5land_2014_07.nc\n",
            "🔄 Processing: 2014-08\n",
            "✔️ Already exists: /content/drive/MyDrive/ERA5_land_trentino_southTyrol_2011_2021/era5land_2014_08.nc\n",
            "🔄 Processing: 2014-09\n",
            "✔️ Already exists: /content/drive/MyDrive/ERA5_land_trentino_southTyrol_2011_2021/era5land_2014_09.nc\n",
            "🔄 Processing: 2014-10\n",
            "✔️ Already exists: /content/drive/MyDrive/ERA5_land_trentino_southTyrol_2011_2021/era5land_2014_10.nc\n",
            "🔄 Processing: 2014-11\n",
            "✔️ Already exists: /content/drive/MyDrive/ERA5_land_trentino_southTyrol_2011_2021/era5land_2014_11.nc\n",
            "🔄 Processing: 2014-12\n",
            "✔️ Already exists: /content/drive/MyDrive/ERA5_land_trentino_southTyrol_2011_2021/era5land_2014_12.nc\n",
            "🔄 Processing: 2015-01\n",
            "✔️ Already exists: /content/drive/MyDrive/ERA5_land_trentino_southTyrol_2011_2021/era5land_2015_01.nc\n",
            "🔄 Processing: 2015-02\n",
            "✔️ Already exists: /content/drive/MyDrive/ERA5_land_trentino_southTyrol_2011_2021/era5land_2015_02.nc\n",
            "🔄 Processing: 2015-03\n",
            "✔️ Already exists: /content/drive/MyDrive/ERA5_land_trentino_southTyrol_2011_2021/era5land_2015_03.nc\n",
            "🔄 Processing: 2015-04\n",
            "✔️ Already exists: /content/drive/MyDrive/ERA5_land_trentino_southTyrol_2011_2021/era5land_2015_04.nc\n",
            "🔄 Processing: 2015-05\n",
            "✔️ Already exists: /content/drive/MyDrive/ERA5_land_trentino_southTyrol_2011_2021/era5land_2015_05.nc\n",
            "🔄 Processing: 2015-06\n",
            "✔️ Already exists: /content/drive/MyDrive/ERA5_land_trentino_southTyrol_2011_2021/era5land_2015_06.nc\n",
            "🔄 Processing: 2015-07\n",
            "✔️ Already exists: /content/drive/MyDrive/ERA5_land_trentino_southTyrol_2011_2021/era5land_2015_07.nc\n",
            "🔄 Processing: 2015-08\n",
            "✔️ Already exists: /content/drive/MyDrive/ERA5_land_trentino_southTyrol_2011_2021/era5land_2015_08.nc\n",
            "🔄 Processing: 2015-09\n",
            "✔️ Already exists: /content/drive/MyDrive/ERA5_land_trentino_southTyrol_2011_2021/era5land_2015_09.nc\n",
            "🔄 Processing: 2015-10\n",
            "✔️ Already exists: /content/drive/MyDrive/ERA5_land_trentino_southTyrol_2011_2021/era5land_2015_10.nc\n",
            "🔄 Processing: 2015-11\n",
            "✔️ Already exists: /content/drive/MyDrive/ERA5_land_trentino_southTyrol_2011_2021/era5land_2015_11.nc\n",
            "🔄 Processing: 2015-12\n",
            "✔️ Already exists: /content/drive/MyDrive/ERA5_land_trentino_southTyrol_2011_2021/era5land_2015_12.nc\n",
            "🔄 Processing: 2016-01\n",
            "✔️ Already exists: /content/drive/MyDrive/ERA5_land_trentino_southTyrol_2011_2021/era5land_2016_01.nc\n",
            "🔄 Processing: 2016-02\n",
            "✔️ Already exists: /content/drive/MyDrive/ERA5_land_trentino_southTyrol_2011_2021/era5land_2016_02.nc\n",
            "🔄 Processing: 2016-03\n",
            "✔️ Already exists: /content/drive/MyDrive/ERA5_land_trentino_southTyrol_2011_2021/era5land_2016_03.nc\n",
            "🔄 Processing: 2016-04\n",
            "✔️ Already exists: /content/drive/MyDrive/ERA5_land_trentino_southTyrol_2011_2021/era5land_2016_04.nc\n",
            "🔄 Processing: 2016-05\n",
            "✔️ Already exists: /content/drive/MyDrive/ERA5_land_trentino_southTyrol_2011_2021/era5land_2016_05.nc\n",
            "🔄 Processing: 2016-06\n",
            "✔️ Already exists: /content/drive/MyDrive/ERA5_land_trentino_southTyrol_2011_2021/era5land_2016_06.nc\n",
            "🔄 Processing: 2016-07\n",
            "✔️ Already exists: /content/drive/MyDrive/ERA5_land_trentino_southTyrol_2011_2021/era5land_2016_07.nc\n",
            "🔄 Processing: 2016-08\n",
            "✔️ Already exists: /content/drive/MyDrive/ERA5_land_trentino_southTyrol_2011_2021/era5land_2016_08.nc\n",
            "🔄 Processing: 2016-09\n",
            "✔️ Already exists: /content/drive/MyDrive/ERA5_land_trentino_southTyrol_2011_2021/era5land_2016_09.nc\n",
            "🔄 Processing: 2016-10\n",
            "✔️ Already exists: /content/drive/MyDrive/ERA5_land_trentino_southTyrol_2011_2021/era5land_2016_10.nc\n",
            "🔄 Processing: 2016-11\n",
            "✔️ Already exists: /content/drive/MyDrive/ERA5_land_trentino_southTyrol_2011_2021/era5land_2016_11.nc\n",
            "🔄 Processing: 2016-12\n",
            "✔️ Already exists: /content/drive/MyDrive/ERA5_land_trentino_southTyrol_2011_2021/era5land_2016_12.nc\n",
            "🔄 Processing: 2017-01\n",
            "✔️ Already exists: /content/drive/MyDrive/ERA5_land_trentino_southTyrol_2011_2021/era5land_2017_01.nc\n",
            "🔄 Processing: 2017-02\n",
            "✔️ Already exists: /content/drive/MyDrive/ERA5_land_trentino_southTyrol_2011_2021/era5land_2017_02.nc\n",
            "🔄 Processing: 2017-03\n",
            "✔️ Already exists: /content/drive/MyDrive/ERA5_land_trentino_southTyrol_2011_2021/era5land_2017_03.nc\n",
            "🔄 Processing: 2017-04\n",
            "✔️ Already exists: /content/drive/MyDrive/ERA5_land_trentino_southTyrol_2011_2021/era5land_2017_04.nc\n",
            "🔄 Processing: 2017-05\n",
            "✔️ Already exists: /content/drive/MyDrive/ERA5_land_trentino_southTyrol_2011_2021/era5land_2017_05.nc\n",
            "🔄 Processing: 2017-06\n",
            "✔️ Already exists: /content/drive/MyDrive/ERA5_land_trentino_southTyrol_2011_2021/era5land_2017_06.nc\n",
            "🔄 Processing: 2017-07\n",
            "✔️ Already exists: /content/drive/MyDrive/ERA5_land_trentino_southTyrol_2011_2021/era5land_2017_07.nc\n",
            "🔄 Processing: 2017-08\n",
            "✔️ Already exists: /content/drive/MyDrive/ERA5_land_trentino_southTyrol_2011_2021/era5land_2017_08.nc\n",
            "🔄 Processing: 2017-09\n",
            "✔️ Already exists: /content/drive/MyDrive/ERA5_land_trentino_southTyrol_2011_2021/era5land_2017_09.nc\n",
            "🔄 Processing: 2017-10\n",
            "✔️ Already exists: /content/drive/MyDrive/ERA5_land_trentino_southTyrol_2011_2021/era5land_2017_10.nc\n",
            "🔄 Processing: 2017-11\n",
            "✔️ Already exists: /content/drive/MyDrive/ERA5_land_trentino_southTyrol_2011_2021/era5land_2017_11.nc\n",
            "🔄 Processing: 2017-12\n",
            "✔️ Already exists: /content/drive/MyDrive/ERA5_land_trentino_southTyrol_2011_2021/era5land_2017_12.nc\n",
            "🔄 Processing: 2018-01\n",
            "✔️ Already exists: /content/drive/MyDrive/ERA5_land_trentino_southTyrol_2011_2021/era5land_2018_01.nc\n",
            "🔄 Processing: 2018-02\n",
            "✔️ Already exists: /content/drive/MyDrive/ERA5_land_trentino_southTyrol_2011_2021/era5land_2018_02.nc\n",
            "🔄 Processing: 2018-03\n",
            "✔️ Already exists: /content/drive/MyDrive/ERA5_land_trentino_southTyrol_2011_2021/era5land_2018_03.nc\n",
            "🔄 Processing: 2018-04\n",
            "✔️ Already exists: /content/drive/MyDrive/ERA5_land_trentino_southTyrol_2011_2021/era5land_2018_04.nc\n",
            "🔄 Processing: 2018-05\n",
            "✔️ Already exists: /content/drive/MyDrive/ERA5_land_trentino_southTyrol_2011_2021/era5land_2018_05.nc\n",
            "🔄 Processing: 2018-06\n",
            "✔️ Already exists: /content/drive/MyDrive/ERA5_land_trentino_southTyrol_2011_2021/era5land_2018_06.nc\n",
            "🔄 Processing: 2018-07\n",
            "✔️ Already exists: /content/drive/MyDrive/ERA5_land_trentino_southTyrol_2011_2021/era5land_2018_07.nc\n",
            "🔄 Processing: 2018-08\n",
            "✔️ Already exists: /content/drive/MyDrive/ERA5_land_trentino_southTyrol_2011_2021/era5land_2018_08.nc\n",
            "🔄 Processing: 2018-09\n",
            "✔️ Already exists: /content/drive/MyDrive/ERA5_land_trentino_southTyrol_2011_2021/era5land_2018_09.nc\n",
            "🔄 Processing: 2018-10\n",
            "✔️ Already exists: /content/drive/MyDrive/ERA5_land_trentino_southTyrol_2011_2021/era5land_2018_10.nc\n",
            "🔄 Processing: 2018-11\n",
            "✔️ Already exists: /content/drive/MyDrive/ERA5_land_trentino_southTyrol_2011_2021/era5land_2018_11.nc\n",
            "🔄 Processing: 2018-12\n",
            "✔️ Already exists: /content/drive/MyDrive/ERA5_land_trentino_southTyrol_2011_2021/era5land_2018_12.nc\n",
            "🔄 Processing: 2019-01\n",
            "✔️ Already exists: /content/drive/MyDrive/ERA5_land_trentino_southTyrol_2011_2021/era5land_2019_01.nc\n",
            "🔄 Processing: 2019-02\n",
            "✔️ Already exists: /content/drive/MyDrive/ERA5_land_trentino_southTyrol_2011_2021/era5land_2019_02.nc\n",
            "🔄 Processing: 2019-03\n",
            "✔️ Already exists: /content/drive/MyDrive/ERA5_land_trentino_southTyrol_2011_2021/era5land_2019_03.nc\n",
            "🔄 Processing: 2019-04\n",
            "✔️ Already exists: /content/drive/MyDrive/ERA5_land_trentino_southTyrol_2011_2021/era5land_2019_04.nc\n",
            "🔄 Processing: 2019-05\n",
            "✔️ Already exists: /content/drive/MyDrive/ERA5_land_trentino_southTyrol_2011_2021/era5land_2019_05.nc\n",
            "🔄 Processing: 2019-06\n",
            "✔️ Already exists: /content/drive/MyDrive/ERA5_land_trentino_southTyrol_2011_2021/era5land_2019_06.nc\n",
            "🔄 Processing: 2019-07\n",
            "✔️ Already exists: /content/drive/MyDrive/ERA5_land_trentino_southTyrol_2011_2021/era5land_2019_07.nc\n",
            "🔄 Processing: 2019-08\n",
            "✔️ Already exists: /content/drive/MyDrive/ERA5_land_trentino_southTyrol_2011_2021/era5land_2019_08.nc\n",
            "🔄 Processing: 2019-09\n",
            "✔️ Already exists: /content/drive/MyDrive/ERA5_land_trentino_southTyrol_2011_2021/era5land_2019_09.nc\n",
            "🔄 Processing: 2019-10\n",
            "✔️ Already exists: /content/drive/MyDrive/ERA5_land_trentino_southTyrol_2011_2021/era5land_2019_10.nc\n",
            "🔄 Processing: 2019-11\n",
            "✔️ Already exists: /content/drive/MyDrive/ERA5_land_trentino_southTyrol_2011_2021/era5land_2019_11.nc\n",
            "🔄 Processing: 2019-12\n",
            "✔️ Already exists: /content/drive/MyDrive/ERA5_land_trentino_southTyrol_2011_2021/era5land_2019_12.nc\n",
            "🔄 Processing: 2020-01\n",
            "✔️ Already exists: /content/drive/MyDrive/ERA5_land_trentino_southTyrol_2011_2021/era5land_2020_01.nc\n",
            "🔄 Processing: 2020-02\n",
            "✔️ Already exists: /content/drive/MyDrive/ERA5_land_trentino_southTyrol_2011_2021/era5land_2020_02.nc\n",
            "🔄 Processing: 2020-03\n",
            "✔️ Already exists: /content/drive/MyDrive/ERA5_land_trentino_southTyrol_2011_2021/era5land_2020_03.nc\n",
            "🔄 Processing: 2020-04\n",
            "✔️ Already exists: /content/drive/MyDrive/ERA5_land_trentino_southTyrol_2011_2021/era5land_2020_04.nc\n",
            "🔄 Processing: 2020-05\n",
            "✔️ Already exists: /content/drive/MyDrive/ERA5_land_trentino_southTyrol_2011_2021/era5land_2020_05.nc\n",
            "🔄 Processing: 2020-06\n",
            "✔️ Already exists: /content/drive/MyDrive/ERA5_land_trentino_southTyrol_2011_2021/era5land_2020_06.nc\n",
            "🔄 Processing: 2020-07\n",
            "✔️ Already exists: /content/drive/MyDrive/ERA5_land_trentino_southTyrol_2011_2021/era5land_2020_07.nc\n",
            "🔄 Processing: 2020-08\n",
            "✔️ Already exists: /content/drive/MyDrive/ERA5_land_trentino_southTyrol_2011_2021/era5land_2020_08.nc\n",
            "🔄 Processing: 2020-09\n",
            "✔️ Already exists: /content/drive/MyDrive/ERA5_land_trentino_southTyrol_2011_2021/era5land_2020_09.nc\n",
            "🔄 Processing: 2020-10\n",
            "✔️ Already exists: /content/drive/MyDrive/ERA5_land_trentino_southTyrol_2011_2021/era5land_2020_10.nc\n",
            "🔄 Processing: 2020-11\n",
            "✔️ Already exists: /content/drive/MyDrive/ERA5_land_trentino_southTyrol_2011_2021/era5land_2020_11.nc\n",
            "🔄 Processing: 2020-12\n",
            "✔️ Already exists: /content/drive/MyDrive/ERA5_land_trentino_southTyrol_2011_2021/era5land_2020_12.nc\n",
            "🔄 Processing: 2021-01\n",
            "✔️ Already exists: /content/drive/MyDrive/ERA5_land_trentino_southTyrol_2011_2021/era5land_2021_01.nc\n",
            "🔄 Processing: 2021-02\n",
            "✔️ Already exists: /content/drive/MyDrive/ERA5_land_trentino_southTyrol_2011_2021/era5land_2021_02.nc\n",
            "🔄 Processing: 2021-03\n",
            "✔️ Already exists: /content/drive/MyDrive/ERA5_land_trentino_southTyrol_2011_2021/era5land_2021_03.nc\n",
            "🔄 Processing: 2021-04\n",
            "✔️ Already exists: /content/drive/MyDrive/ERA5_land_trentino_southTyrol_2011_2021/era5land_2021_04.nc\n",
            "🔄 Processing: 2021-05\n",
            "✔️ Already exists: /content/drive/MyDrive/ERA5_land_trentino_southTyrol_2011_2021/era5land_2021_05.nc\n",
            "🔄 Processing: 2021-06\n",
            "✔️ Already exists: /content/drive/MyDrive/ERA5_land_trentino_southTyrol_2011_2021/era5land_2021_06.nc\n",
            "🔄 Processing: 2021-07\n",
            "✔️ Already exists: /content/drive/MyDrive/ERA5_land_trentino_southTyrol_2011_2021/era5land_2021_07.nc\n",
            "🔄 Processing: 2021-08\n",
            "✔️ Already exists: /content/drive/MyDrive/ERA5_land_trentino_southTyrol_2011_2021/era5land_2021_08.nc\n",
            "🔄 Processing: 2021-09\n",
            "✔️ Already exists: /content/drive/MyDrive/ERA5_land_trentino_southTyrol_2011_2021/era5land_2021_09.nc\n",
            "🔄 Processing: 2021-10\n",
            "✔️ Already exists: /content/drive/MyDrive/ERA5_land_trentino_southTyrol_2011_2021/era5land_2021_10.nc\n",
            "🔄 Processing: 2021-11\n",
            "✔️ Already exists: /content/drive/MyDrive/ERA5_land_trentino_southTyrol_2011_2021/era5land_2021_11.nc\n",
            "🔄 Processing: 2021-12\n",
            "✔️ Already exists: /content/drive/MyDrive/ERA5_land_trentino_southTyrol_2011_2021/era5land_2021_12.nc\n"
          ]
        }
      ],
      "source": [
        "import cdsapi\n",
        "import os\n",
        "from datetime import datetime\n",
        "\n",
        "# Step 1: Save CDS API key\n",
        "cdsapi_content = \"\"\"\n",
        "url: https://cds.climate.copernicus.eu/api\n",
        "key: your key\n",
        "\"\"\"\n",
        "\n",
        "with open(\"/root/.cdsapirc\", \"w\") as f:\n",
        "    f.write(cdsapi_content)\n",
        "\n",
        "print(\"✅ CDS API key saved successfully!\")\n",
        "\n",
        "# Step 2: Create CDS API client\n",
        "c = cdsapi.Client()\n",
        "\n",
        "# Step 3: Define bounding box for Trento\n",
        "# area = [46.11, 11.08, 46.01, 11.18]  # [North, West, South, East]\n",
        "# # area for Valsugana Valley, Trentino area\n",
        "# area = [46.15, 11.20, 45.95, 11.50]\n",
        "# Trentino-South Tyrol\n",
        "area = [47.10, 10.30, 45.80, 12.30]  # [North, West, South, East]\n",
        "\n",
        "\n",
        "# Step 4: Time details\n",
        "days_31 = [f\"{d:02d}\" for d in range(1, 32)]\n",
        "hours = [f\"{h:02d}:00\" for h in range(24)]\n",
        "\n",
        "# Step 5: Google Drive path\n",
        "output_path = \"/content/drive/MyDrive/ERA5_land_trentino_southTyrol_2011_2021/\"\n",
        "os.makedirs(output_path, exist_ok=True)\n",
        "\n",
        "# Step 6: Loop through years and months (2015 from April to 2023 December)\n",
        "for year in range(2011, 2022):\n",
        "    start_month = 1\n",
        "    end_month = 12\n",
        "\n",
        "    for month in range(start_month, end_month + 1):\n",
        "        month_str = f\"{month:02d}\"\n",
        "        print(f\"🔄 Processing: {year}-{month_str}\")\n",
        "\n",
        "        request = {\n",
        "            \"variable\": [\n",
        "                \"2m_temperature\",\n",
        "                \"2m_dewpoint_temperature\",\n",
        "                \"10m_u_component_of_wind\",\n",
        "                \"10m_v_component_of_wind\",\n",
        "                \"surface_pressure\",\n",
        "                \"total_precipitation\"\n",
        "            ],\n",
        "            \"product_type\": \"reanalysis\",\n",
        "            \"format\": \"netcdf\",\n",
        "            \"year\": str(year),\n",
        "            \"month\": month_str,\n",
        "            \"day\": days_31,\n",
        "            \"time\": hours,\n",
        "            \"area\": area,\n",
        "        }\n",
        "\n",
        "        nc_filename = f\"{output_path}era5land_{year}_{month_str}.nc\"\n",
        "\n",
        "        try:\n",
        "            if not os.path.exists(nc_filename):\n",
        "                c.retrieve(\"reanalysis-era5-land\", request, nc_filename)\n",
        "                print(f\"✅ Saved: {nc_filename}\")\n",
        "            else:\n",
        "                print(f\"✔️ Already exists: {nc_filename}\")\n",
        "\n",
        "        except Exception as e:\n",
        "            print(f\"❌ Failed: {year}-{month_str} — {e}\")\n"
      ]
    },
    {
      "cell_type": "markdown",
      "metadata": {
        "id": "mRKclECWgfRI"
      },
      "source": [
        "## DOWNLOAD ERA5 REANALYSIS"
      ]
    },
    {
      "cell_type": "code",
      "execution_count": null,
      "metadata": {
        "colab": {
          "background_save": true,
          "base_uri": "https://localhost:8080/",
          "referenced_widgets": [
            "1e50bed5cd2c49f39c41570218873ee8",
            "b9787596f8e243b1928768784faa956f",
            "42c1d757104948f989e6719ec047aadc",
            "84d8be5f35754366b6ef1ef77037298b",
            "296e4174c6ab405d9c2aa148eec59b00",
            "23e7fc556cb741e9a541db768ec02e22",
            "6adbe409eea24d08b0dc547298bf9ab8",
            "53b4f5525a404c28ac4d90effa71823b",
            "1a0209c7be8d472db2cc3896c5661165",
            "10f83987a14941d1888944e6f6ee39c5",
            "d8c4a487673c4c8fb02f11c77e9c7083",
            "fb58939dd3a045b88316a65a222567fd",
            "f98a9f30bc3c48328f0c81644d06e745",
            "c6eaff46ef394a19a57baac273a99552",
            "2877a2fd4b3b4030be65102dc9a983c0",
            "de380251b9f94ba0b159eb5a65685c63",
            "2f20ecdb02d14c268de1af5b3a8e8e62",
            "feb64db16e774e94a5693e4ef5ddfebb",
            "0f8ec7f9cbb446a49a6e34b58f67141d",
            "9e6b9853cea24639941fa5ff4470cc32",
            "78b35067e82b469c9d711d16e39838b3",
            "4b0cd816592d4f00897b54f8ff9579ff",
            "0733d3ea9120406fb620cecb82d2c946",
            "48adde6d786647f0bc288a451e529805",
            "eb6112cf47e14191b7111e4e98f6b364",
            "cc5114e59eca431ab64db3a63c2a4445",
            "668722be9f174d1ca61d725760a905ed",
            "bc8cd5992fb8440d83c45567e8eb8942",
            "cbfdb5f0bc6346c3ae90e9d1b32eaa2c",
            "a8e2a254e090405bbc092c78c0002774",
            "a228bf25c2f54be6bb83b367de824ded",
            "212b58ea18e44079ad6762e0b479c42b",
            "114e037a5d044f78a7c51efb66133476",
            "b10b0083fb194a66a8f030e967e7ac8d",
            "774ed2531e524d2182efca4d085bff1e",
            "a26d2c7cda2f4dbcbb9d336233344614",
            "54dd33068df84fec83e6100e8b19775d",
            "0c5175a87be7422fac746adc43e58dc5",
            "a6f7ba275dbd43afb44027fc8a4353da",
            "50f5b4b8e17748b5aab255b55fac326f",
            "24b0080dcf1147fc94d176700b8b6eaf",
            "80f29bb82e0d448a9cd2ccf6df86015a",
            "23a296a1c6124c408f812a878bace38e",
            "07585d299d4245debd7c3357c3bd1c68",
            "f0aea6c2894d4be3975644bc7ce0603d",
            "3ae4a1458b80431a95e621c2b997d24b",
            "a86b609b21bc4a03b0c8854fff58e7a8",
            "41ac2497c17b452db57056ba7ee30bcf",
            "66f955636ad44f3f95ce55e122d159d1",
            "8f9d8aedff474e0f99c969c7c2cb39db",
            "9c64fad339044b80bda671140c8fcd11",
            "2d90cbc5d36344888f69651f44a337d5",
            "03cd970bea694a37b0f85ae59bafe84c",
            "634614af1788428c9a283abf36e67920",
            "7ec550097c8e4a6e9b21bee24e00f36b",
            "897cc2f4a2904147a32eebdc138cd3cc"
          ]
        },
        "id": "tP4brziGgkY4",
        "outputId": "7b96addb-a289-4167-b658-12ac3fd689b3"
      },
      "outputs": [
        {
          "name": "stdout",
          "output_type": "stream",
          "text": [
            "✅ CDS API key saved successfully!\n"
          ]
        },
        {
          "name": "stderr",
          "output_type": "stream",
          "text": [
            "2025-05-05 06:39:34,587 INFO [2024-09-26T00:00:00] Watch our [Forum](https://forum.ecmwf.int/) for Announcements, news and other discussed topics.\n",
            "INFO:datapi.legacy_api_client:[2024-09-26T00:00:00] Watch our [Forum](https://forum.ecmwf.int/) for Announcements, news and other discussed topics.\n",
            "2025-05-05 06:39:34,589 WARNING [2024-06-16T00:00:00] CDS API syntax is changed and some keys or parameter names may have also changed. To avoid requests failing, please use the \"Show API request code\" tool on the dataset Download Form to check you are using the correct syntax for your API request.\n",
            "WARNING:datapi.legacy_api_client:[2024-06-16T00:00:00] CDS API syntax is changed and some keys or parameter names may have also changed. To avoid requests failing, please use the \"Show API request code\" tool on the dataset Download Form to check you are using the correct syntax for your API request.\n"
          ]
        },
        {
          "name": "stdout",
          "output_type": "stream",
          "text": [
            "🔄 Processing: 2012-01\n",
            "✔️ Already exists: /content/drive/MyDrive/ERA5_REANALYSIS_2012_2024/era5_2012_01.nc\n",
            "🔄 Processing: 2012-02\n",
            "✔️ Already exists: /content/drive/MyDrive/ERA5_REANALYSIS_2012_2024/era5_2012_02.nc\n",
            "🔄 Processing: 2012-03\n",
            "✔️ Already exists: /content/drive/MyDrive/ERA5_REANALYSIS_2012_2024/era5_2012_03.nc\n",
            "🔄 Processing: 2012-04\n",
            "✔️ Already exists: /content/drive/MyDrive/ERA5_REANALYSIS_2012_2024/era5_2012_04.nc\n",
            "🔄 Processing: 2012-05\n",
            "✔️ Already exists: /content/drive/MyDrive/ERA5_REANALYSIS_2012_2024/era5_2012_05.nc\n",
            "🔄 Processing: 2012-06\n",
            "✔️ Already exists: /content/drive/MyDrive/ERA5_REANALYSIS_2012_2024/era5_2012_06.nc\n",
            "🔄 Processing: 2012-07\n",
            "✔️ Already exists: /content/drive/MyDrive/ERA5_REANALYSIS_2012_2024/era5_2012_07.nc\n",
            "🔄 Processing: 2012-08\n",
            "✔️ Already exists: /content/drive/MyDrive/ERA5_REANALYSIS_2012_2024/era5_2012_08.nc\n",
            "🔄 Processing: 2012-09\n",
            "✔️ Already exists: /content/drive/MyDrive/ERA5_REANALYSIS_2012_2024/era5_2012_09.nc\n",
            "🔄 Processing: 2012-10\n",
            "✔️ Already exists: /content/drive/MyDrive/ERA5_REANALYSIS_2012_2024/era5_2012_10.nc\n",
            "🔄 Processing: 2012-11\n",
            "✔️ Already exists: /content/drive/MyDrive/ERA5_REANALYSIS_2012_2024/era5_2012_11.nc\n",
            "🔄 Processing: 2012-12\n",
            "✔️ Already exists: /content/drive/MyDrive/ERA5_REANALYSIS_2012_2024/era5_2012_12.nc\n",
            "🔄 Processing: 2013-01\n",
            "✔️ Already exists: /content/drive/MyDrive/ERA5_REANALYSIS_2012_2024/era5_2013_01.nc\n",
            "🔄 Processing: 2013-02\n",
            "✔️ Already exists: /content/drive/MyDrive/ERA5_REANALYSIS_2012_2024/era5_2013_02.nc\n",
            "🔄 Processing: 2013-03\n",
            "✔️ Already exists: /content/drive/MyDrive/ERA5_REANALYSIS_2012_2024/era5_2013_03.nc\n",
            "🔄 Processing: 2013-04\n",
            "✔️ Already exists: /content/drive/MyDrive/ERA5_REANALYSIS_2012_2024/era5_2013_04.nc\n",
            "🔄 Processing: 2013-05\n",
            "✔️ Already exists: /content/drive/MyDrive/ERA5_REANALYSIS_2012_2024/era5_2013_05.nc\n",
            "🔄 Processing: 2013-06\n",
            "✔️ Already exists: /content/drive/MyDrive/ERA5_REANALYSIS_2012_2024/era5_2013_06.nc\n",
            "🔄 Processing: 2013-07\n",
            "✔️ Already exists: /content/drive/MyDrive/ERA5_REANALYSIS_2012_2024/era5_2013_07.nc\n",
            "🔄 Processing: 2013-08\n",
            "✔️ Already exists: /content/drive/MyDrive/ERA5_REANALYSIS_2012_2024/era5_2013_08.nc\n",
            "🔄 Processing: 2013-09\n",
            "✔️ Already exists: /content/drive/MyDrive/ERA5_REANALYSIS_2012_2024/era5_2013_09.nc\n",
            "🔄 Processing: 2013-10\n",
            "✔️ Already exists: /content/drive/MyDrive/ERA5_REANALYSIS_2012_2024/era5_2013_10.nc\n",
            "🔄 Processing: 2013-11\n",
            "✔️ Already exists: /content/drive/MyDrive/ERA5_REANALYSIS_2012_2024/era5_2013_11.nc\n",
            "🔄 Processing: 2013-12\n",
            "✔️ Already exists: /content/drive/MyDrive/ERA5_REANALYSIS_2012_2024/era5_2013_12.nc\n",
            "🔄 Processing: 2014-01\n",
            "✔️ Already exists: /content/drive/MyDrive/ERA5_REANALYSIS_2012_2024/era5_2014_01.nc\n",
            "🔄 Processing: 2014-02\n",
            "✔️ Already exists: /content/drive/MyDrive/ERA5_REANALYSIS_2012_2024/era5_2014_02.nc\n",
            "🔄 Processing: 2014-03\n",
            "✔️ Already exists: /content/drive/MyDrive/ERA5_REANALYSIS_2012_2024/era5_2014_03.nc\n",
            "🔄 Processing: 2014-04\n",
            "✔️ Already exists: /content/drive/MyDrive/ERA5_REANALYSIS_2012_2024/era5_2014_04.nc\n",
            "🔄 Processing: 2014-05\n",
            "✔️ Already exists: /content/drive/MyDrive/ERA5_REANALYSIS_2012_2024/era5_2014_05.nc\n",
            "🔄 Processing: 2014-06\n",
            "✔️ Already exists: /content/drive/MyDrive/ERA5_REANALYSIS_2012_2024/era5_2014_06.nc\n",
            "🔄 Processing: 2014-07\n",
            "✔️ Already exists: /content/drive/MyDrive/ERA5_REANALYSIS_2012_2024/era5_2014_07.nc\n",
            "🔄 Processing: 2014-08\n",
            "✔️ Already exists: /content/drive/MyDrive/ERA5_REANALYSIS_2012_2024/era5_2014_08.nc\n",
            "🔄 Processing: 2014-09\n",
            "✔️ Already exists: /content/drive/MyDrive/ERA5_REANALYSIS_2012_2024/era5_2014_09.nc\n",
            "🔄 Processing: 2014-10\n",
            "✔️ Already exists: /content/drive/MyDrive/ERA5_REANALYSIS_2012_2024/era5_2014_10.nc\n",
            "🔄 Processing: 2014-11\n",
            "✔️ Already exists: /content/drive/MyDrive/ERA5_REANALYSIS_2012_2024/era5_2014_11.nc\n",
            "🔄 Processing: 2014-12\n",
            "✔️ Already exists: /content/drive/MyDrive/ERA5_REANALYSIS_2012_2024/era5_2014_12.nc\n",
            "🔄 Processing: 2015-01\n",
            "✔️ Already exists: /content/drive/MyDrive/ERA5_REANALYSIS_2012_2024/era5_2015_01.nc\n",
            "🔄 Processing: 2015-02\n",
            "✔️ Already exists: /content/drive/MyDrive/ERA5_REANALYSIS_2012_2024/era5_2015_02.nc\n",
            "🔄 Processing: 2015-03\n",
            "✔️ Already exists: /content/drive/MyDrive/ERA5_REANALYSIS_2012_2024/era5_2015_03.nc\n",
            "🔄 Processing: 2015-04\n",
            "✔️ Already exists: /content/drive/MyDrive/ERA5_REANALYSIS_2012_2024/era5_2015_04.nc\n",
            "🔄 Processing: 2015-05\n",
            "✔️ Already exists: /content/drive/MyDrive/ERA5_REANALYSIS_2012_2024/era5_2015_05.nc\n",
            "🔄 Processing: 2015-06\n",
            "✔️ Already exists: /content/drive/MyDrive/ERA5_REANALYSIS_2012_2024/era5_2015_06.nc\n",
            "🔄 Processing: 2015-07\n",
            "✔️ Already exists: /content/drive/MyDrive/ERA5_REANALYSIS_2012_2024/era5_2015_07.nc\n",
            "🔄 Processing: 2015-08\n",
            "✔️ Already exists: /content/drive/MyDrive/ERA5_REANALYSIS_2012_2024/era5_2015_08.nc\n",
            "🔄 Processing: 2015-09\n",
            "✔️ Already exists: /content/drive/MyDrive/ERA5_REANALYSIS_2012_2024/era5_2015_09.nc\n",
            "🔄 Processing: 2015-10\n",
            "✔️ Already exists: /content/drive/MyDrive/ERA5_REANALYSIS_2012_2024/era5_2015_10.nc\n",
            "🔄 Processing: 2015-11\n",
            "✔️ Already exists: /content/drive/MyDrive/ERA5_REANALYSIS_2012_2024/era5_2015_11.nc\n",
            "🔄 Processing: 2015-12\n",
            "✔️ Already exists: /content/drive/MyDrive/ERA5_REANALYSIS_2012_2024/era5_2015_12.nc\n",
            "🔄 Processing: 2016-01\n",
            "✔️ Already exists: /content/drive/MyDrive/ERA5_REANALYSIS_2012_2024/era5_2016_01.nc\n",
            "🔄 Processing: 2016-02\n",
            "✔️ Already exists: /content/drive/MyDrive/ERA5_REANALYSIS_2012_2024/era5_2016_02.nc\n",
            "🔄 Processing: 2016-03\n",
            "✔️ Already exists: /content/drive/MyDrive/ERA5_REANALYSIS_2012_2024/era5_2016_03.nc\n",
            "🔄 Processing: 2016-04\n",
            "✔️ Already exists: /content/drive/MyDrive/ERA5_REANALYSIS_2012_2024/era5_2016_04.nc\n",
            "🔄 Processing: 2016-05\n",
            "✔️ Already exists: /content/drive/MyDrive/ERA5_REANALYSIS_2012_2024/era5_2016_05.nc\n",
            "🔄 Processing: 2016-06\n",
            "✔️ Already exists: /content/drive/MyDrive/ERA5_REANALYSIS_2012_2024/era5_2016_06.nc\n",
            "🔄 Processing: 2016-07\n",
            "✔️ Already exists: /content/drive/MyDrive/ERA5_REANALYSIS_2012_2024/era5_2016_07.nc\n",
            "🔄 Processing: 2016-08\n",
            "✔️ Already exists: /content/drive/MyDrive/ERA5_REANALYSIS_2012_2024/era5_2016_08.nc\n",
            "🔄 Processing: 2016-09\n",
            "✔️ Already exists: /content/drive/MyDrive/ERA5_REANALYSIS_2012_2024/era5_2016_09.nc\n",
            "🔄 Processing: 2016-10\n",
            "✔️ Already exists: /content/drive/MyDrive/ERA5_REANALYSIS_2012_2024/era5_2016_10.nc\n",
            "🔄 Processing: 2016-11\n",
            "✔️ Already exists: /content/drive/MyDrive/ERA5_REANALYSIS_2012_2024/era5_2016_11.nc\n",
            "🔄 Processing: 2016-12\n",
            "✔️ Already exists: /content/drive/MyDrive/ERA5_REANALYSIS_2012_2024/era5_2016_12.nc\n",
            "🔄 Processing: 2017-01\n",
            "✔️ Already exists: /content/drive/MyDrive/ERA5_REANALYSIS_2012_2024/era5_2017_01.nc\n",
            "🔄 Processing: 2017-02\n",
            "✔️ Already exists: /content/drive/MyDrive/ERA5_REANALYSIS_2012_2024/era5_2017_02.nc\n",
            "🔄 Processing: 2017-03\n",
            "✔️ Already exists: /content/drive/MyDrive/ERA5_REANALYSIS_2012_2024/era5_2017_03.nc\n",
            "🔄 Processing: 2017-04\n",
            "✔️ Already exists: /content/drive/MyDrive/ERA5_REANALYSIS_2012_2024/era5_2017_04.nc\n",
            "🔄 Processing: 2017-05\n",
            "✔️ Already exists: /content/drive/MyDrive/ERA5_REANALYSIS_2012_2024/era5_2017_05.nc\n",
            "🔄 Processing: 2017-06\n",
            "✔️ Already exists: /content/drive/MyDrive/ERA5_REANALYSIS_2012_2024/era5_2017_06.nc\n",
            "🔄 Processing: 2017-07\n",
            "✔️ Already exists: /content/drive/MyDrive/ERA5_REANALYSIS_2012_2024/era5_2017_07.nc\n",
            "🔄 Processing: 2017-08\n",
            "✔️ Already exists: /content/drive/MyDrive/ERA5_REANALYSIS_2012_2024/era5_2017_08.nc\n",
            "🔄 Processing: 2017-09\n",
            "✔️ Already exists: /content/drive/MyDrive/ERA5_REANALYSIS_2012_2024/era5_2017_09.nc\n",
            "🔄 Processing: 2017-10\n",
            "✔️ Already exists: /content/drive/MyDrive/ERA5_REANALYSIS_2012_2024/era5_2017_10.nc\n",
            "🔄 Processing: 2017-11\n",
            "✔️ Already exists: /content/drive/MyDrive/ERA5_REANALYSIS_2012_2024/era5_2017_11.nc\n",
            "🔄 Processing: 2017-12\n",
            "✔️ Already exists: /content/drive/MyDrive/ERA5_REANALYSIS_2012_2024/era5_2017_12.nc\n",
            "🔄 Processing: 2018-01\n",
            "✔️ Already exists: /content/drive/MyDrive/ERA5_REANALYSIS_2012_2024/era5_2018_01.nc\n",
            "🔄 Processing: 2018-02\n",
            "✔️ Already exists: /content/drive/MyDrive/ERA5_REANALYSIS_2012_2024/era5_2018_02.nc\n",
            "🔄 Processing: 2018-03\n",
            "✔️ Already exists: /content/drive/MyDrive/ERA5_REANALYSIS_2012_2024/era5_2018_03.nc\n",
            "🔄 Processing: 2018-04\n",
            "✔️ Already exists: /content/drive/MyDrive/ERA5_REANALYSIS_2012_2024/era5_2018_04.nc\n",
            "🔄 Processing: 2018-05\n",
            "✔️ Already exists: /content/drive/MyDrive/ERA5_REANALYSIS_2012_2024/era5_2018_05.nc\n",
            "🔄 Processing: 2018-06\n",
            "✔️ Already exists: /content/drive/MyDrive/ERA5_REANALYSIS_2012_2024/era5_2018_06.nc\n",
            "🔄 Processing: 2018-07\n",
            "✔️ Already exists: /content/drive/MyDrive/ERA5_REANALYSIS_2012_2024/era5_2018_07.nc\n",
            "🔄 Processing: 2018-08\n",
            "✔️ Already exists: /content/drive/MyDrive/ERA5_REANALYSIS_2012_2024/era5_2018_08.nc\n",
            "🔄 Processing: 2018-09\n",
            "✔️ Already exists: /content/drive/MyDrive/ERA5_REANALYSIS_2012_2024/era5_2018_09.nc\n",
            "🔄 Processing: 2018-10\n",
            "✔️ Already exists: /content/drive/MyDrive/ERA5_REANALYSIS_2012_2024/era5_2018_10.nc\n",
            "🔄 Processing: 2018-11\n",
            "✔️ Already exists: /content/drive/MyDrive/ERA5_REANALYSIS_2012_2024/era5_2018_11.nc\n",
            "🔄 Processing: 2018-12\n",
            "✔️ Already exists: /content/drive/MyDrive/ERA5_REANALYSIS_2012_2024/era5_2018_12.nc\n",
            "🔄 Processing: 2019-01\n",
            "✔️ Already exists: /content/drive/MyDrive/ERA5_REANALYSIS_2012_2024/era5_2019_01.nc\n",
            "🔄 Processing: 2019-02\n",
            "✔️ Already exists: /content/drive/MyDrive/ERA5_REANALYSIS_2012_2024/era5_2019_02.nc\n",
            "🔄 Processing: 2019-03\n",
            "✔️ Already exists: /content/drive/MyDrive/ERA5_REANALYSIS_2012_2024/era5_2019_03.nc\n",
            "🔄 Processing: 2019-04\n",
            "✔️ Already exists: /content/drive/MyDrive/ERA5_REANALYSIS_2012_2024/era5_2019_04.nc\n",
            "🔄 Processing: 2019-05\n",
            "✔️ Already exists: /content/drive/MyDrive/ERA5_REANALYSIS_2012_2024/era5_2019_05.nc\n",
            "🔄 Processing: 2019-06\n",
            "✔️ Already exists: /content/drive/MyDrive/ERA5_REANALYSIS_2012_2024/era5_2019_06.nc\n",
            "🔄 Processing: 2019-07\n",
            "✔️ Already exists: /content/drive/MyDrive/ERA5_REANALYSIS_2012_2024/era5_2019_07.nc\n",
            "🔄 Processing: 2019-08\n",
            "✔️ Already exists: /content/drive/MyDrive/ERA5_REANALYSIS_2012_2024/era5_2019_08.nc\n",
            "🔄 Processing: 2019-09\n",
            "✔️ Already exists: /content/drive/MyDrive/ERA5_REANALYSIS_2012_2024/era5_2019_09.nc\n",
            "🔄 Processing: 2019-10\n",
            "✔️ Already exists: /content/drive/MyDrive/ERA5_REANALYSIS_2012_2024/era5_2019_10.nc\n",
            "🔄 Processing: 2019-11\n",
            "✔️ Already exists: /content/drive/MyDrive/ERA5_REANALYSIS_2012_2024/era5_2019_11.nc\n",
            "🔄 Processing: 2019-12\n",
            "✔️ Already exists: /content/drive/MyDrive/ERA5_REANALYSIS_2012_2024/era5_2019_12.nc\n",
            "🔄 Processing: 2020-01\n",
            "✔️ Already exists: /content/drive/MyDrive/ERA5_REANALYSIS_2012_2024/era5_2020_01.nc\n",
            "🔄 Processing: 2020-02\n",
            "✔️ Already exists: /content/drive/MyDrive/ERA5_REANALYSIS_2012_2024/era5_2020_02.nc\n",
            "🔄 Processing: 2020-03\n",
            "✔️ Already exists: /content/drive/MyDrive/ERA5_REANALYSIS_2012_2024/era5_2020_03.nc\n",
            "🔄 Processing: 2020-04\n",
            "✔️ Already exists: /content/drive/MyDrive/ERA5_REANALYSIS_2012_2024/era5_2020_04.nc\n",
            "🔄 Processing: 2020-05\n"
          ]
        },
        {
          "name": "stderr",
          "output_type": "stream",
          "text": [
            "2025-05-05 06:39:38,795 INFO Request ID is 3da82b5e-0021-4b5d-9943-2468dbe515d9\n",
            "INFO:datapi.legacy_api_client:Request ID is 3da82b5e-0021-4b5d-9943-2468dbe515d9\n",
            "2025-05-05 06:39:39,028 INFO status has been updated to accepted\n",
            "INFO:datapi.legacy_api_client:status has been updated to accepted\n",
            "2025-05-05 06:40:00,934 INFO status has been updated to running\n",
            "INFO:datapi.legacy_api_client:status has been updated to running\n",
            "2025-05-05 06:40:12,489 INFO status has been updated to successful\n",
            "INFO:datapi.legacy_api_client:status has been updated to successful\n"
          ]
        },
        {
          "data": {
            "application/vnd.jupyter.widget-view+json": {
              "model_id": "1e50bed5cd2c49f39c41570218873ee8",
              "version_major": 2,
              "version_minor": 0
            },
            "text/plain": [
              "963f4bf14c2ffeb8c71fc621e48f5743.zip:   0%|          | 0.00/474k [00:00<?, ?B/s]"
            ]
          },
          "metadata": {},
          "output_type": "display_data"
        },
        {
          "name": "stdout",
          "output_type": "stream",
          "text": [
            "✅ Saved: /content/drive/MyDrive/ERA5_REANALYSIS_2012_2024/era5_2020_05.nc\n",
            "🔄 Processing: 2020-06\n"
          ]
        },
        {
          "name": "stderr",
          "output_type": "stream",
          "text": [
            "2025-05-05 06:40:15,801 INFO Request ID is eacee951-a433-4c1e-b623-92cd0c606b31\n",
            "INFO:datapi.legacy_api_client:Request ID is eacee951-a433-4c1e-b623-92cd0c606b31\n",
            "2025-05-05 06:40:16,399 INFO status has been updated to accepted\n",
            "INFO:datapi.legacy_api_client:status has been updated to accepted\n",
            "2025-05-05 06:40:38,336 INFO status has been updated to running\n",
            "INFO:datapi.legacy_api_client:status has been updated to running\n",
            "2025-05-05 06:46:37,540 INFO status has been updated to successful\n",
            "INFO:datapi.legacy_api_client:status has been updated to successful\n"
          ]
        },
        {
          "data": {
            "application/vnd.jupyter.widget-view+json": {
              "model_id": "b9787596f8e243b1928768784faa956f",
              "version_major": 2,
              "version_minor": 0
            },
            "text/plain": [
              "871504e8d2d36ce57a0f00354ccdbdff.zip:   0%|          | 0.00/469k [00:00<?, ?B/s]"
            ]
          },
          "metadata": {},
          "output_type": "display_data"
        },
        {
          "name": "stdout",
          "output_type": "stream",
          "text": [
            "✅ Saved: /content/drive/MyDrive/ERA5_REANALYSIS_2012_2024/era5_2020_06.nc\n",
            "🔄 Processing: 2020-07\n"
          ]
        },
        {
          "name": "stderr",
          "output_type": "stream",
          "text": [
            "2025-05-05 06:46:40,528 INFO Request ID is ee9b03fa-1b10-420b-9cee-31c16f65ee52\n",
            "INFO:datapi.legacy_api_client:Request ID is ee9b03fa-1b10-420b-9cee-31c16f65ee52\n",
            "2025-05-05 06:46:40,714 INFO status has been updated to accepted\n",
            "INFO:datapi.legacy_api_client:status has been updated to accepted\n",
            "2025-05-05 06:46:54,859 INFO status has been updated to running\n",
            "INFO:datapi.legacy_api_client:status has been updated to running\n",
            "2025-05-05 06:47:14,249 INFO status has been updated to accepted\n",
            "INFO:datapi.legacy_api_client:status has been updated to accepted\n",
            "2025-05-05 06:47:31,498 INFO status has been updated to running\n",
            "INFO:datapi.legacy_api_client:status has been updated to running\n",
            "2025-05-05 06:53:01,677 INFO status has been updated to successful\n",
            "INFO:datapi.legacy_api_client:status has been updated to successful\n"
          ]
        },
        {
          "data": {
            "application/vnd.jupyter.widget-view+json": {
              "model_id": "42c1d757104948f989e6719ec047aadc",
              "version_major": 2,
              "version_minor": 0
            },
            "text/plain": [
              "f4ea5ac7bf532e1dabc025c1885355cb.zip:   0%|          | 0.00/476k [00:00<?, ?B/s]"
            ]
          },
          "metadata": {},
          "output_type": "display_data"
        },
        {
          "name": "stdout",
          "output_type": "stream",
          "text": [
            "✅ Saved: /content/drive/MyDrive/ERA5_REANALYSIS_2012_2024/era5_2020_07.nc\n",
            "🔄 Processing: 2020-08\n"
          ]
        },
        {
          "name": "stderr",
          "output_type": "stream",
          "text": [
            "2025-05-05 06:53:04,670 INFO Request ID is 88d39a13-1862-43a6-8e14-c1f48df6e06c\n",
            "INFO:datapi.legacy_api_client:Request ID is 88d39a13-1862-43a6-8e14-c1f48df6e06c\n",
            "2025-05-05 06:53:04,848 INFO status has been updated to accepted\n",
            "INFO:datapi.legacy_api_client:status has been updated to accepted\n",
            "2025-05-05 06:53:55,553 INFO status has been updated to running\n",
            "INFO:datapi.legacy_api_client:status has been updated to running\n",
            "2025-05-05 06:59:25,657 INFO status has been updated to successful\n",
            "INFO:datapi.legacy_api_client:status has been updated to successful\n"
          ]
        },
        {
          "data": {
            "application/vnd.jupyter.widget-view+json": {
              "model_id": "84d8be5f35754366b6ef1ef77037298b",
              "version_major": 2,
              "version_minor": 0
            },
            "text/plain": [
              "67a05a3ada319e6bc0df2f48550e9f75.zip:   0%|          | 0.00/470k [00:00<?, ?B/s]"
            ]
          },
          "metadata": {},
          "output_type": "display_data"
        },
        {
          "name": "stdout",
          "output_type": "stream",
          "text": [
            "✅ Saved: /content/drive/MyDrive/ERA5_REANALYSIS_2012_2024/era5_2020_08.nc\n",
            "🔄 Processing: 2020-09\n"
          ]
        },
        {
          "name": "stderr",
          "output_type": "stream",
          "text": [
            "2025-05-05 06:59:29,209 INFO Request ID is 4e73c593-28cd-4e89-84e3-9a00681fad84\n",
            "INFO:datapi.legacy_api_client:Request ID is 4e73c593-28cd-4e89-84e3-9a00681fad84\n",
            "2025-05-05 06:59:29,456 INFO status has been updated to accepted\n",
            "INFO:datapi.legacy_api_client:status has been updated to accepted\n",
            "2025-05-05 06:59:51,318 INFO status has been updated to running\n",
            "INFO:datapi.legacy_api_client:status has been updated to running\n",
            "2025-05-05 07:05:50,580 INFO status has been updated to successful\n",
            "INFO:datapi.legacy_api_client:status has been updated to successful\n"
          ]
        },
        {
          "data": {
            "application/vnd.jupyter.widget-view+json": {
              "model_id": "296e4174c6ab405d9c2aa148eec59b00",
              "version_major": 2,
              "version_minor": 0
            },
            "text/plain": [
              "17469cb0f1ebd530b25e7aa33438fb39.zip:   0%|          | 0.00/458k [00:00<?, ?B/s]"
            ]
          },
          "metadata": {},
          "output_type": "display_data"
        },
        {
          "name": "stdout",
          "output_type": "stream",
          "text": [
            "✅ Saved: /content/drive/MyDrive/ERA5_REANALYSIS_2012_2024/era5_2020_09.nc\n",
            "🔄 Processing: 2020-10\n"
          ]
        },
        {
          "name": "stderr",
          "output_type": "stream",
          "text": [
            "2025-05-05 07:05:53,656 INFO Request ID is 96eea043-5df2-4a56-b55b-48560fa6d9a7\n",
            "INFO:datapi.legacy_api_client:Request ID is 96eea043-5df2-4a56-b55b-48560fa6d9a7\n",
            "2025-05-05 07:05:53,854 INFO status has been updated to accepted\n",
            "INFO:datapi.legacy_api_client:status has been updated to accepted\n",
            "2025-05-05 07:06:08,445 INFO status has been updated to running\n",
            "INFO:datapi.legacy_api_client:status has been updated to running\n",
            "2025-05-05 07:10:14,573 INFO status has been updated to successful\n",
            "INFO:datapi.legacy_api_client:status has been updated to successful\n"
          ]
        },
        {
          "data": {
            "application/vnd.jupyter.widget-view+json": {
              "model_id": "23e7fc556cb741e9a541db768ec02e22",
              "version_major": 2,
              "version_minor": 0
            },
            "text/plain": [
              "d1f834689b860ae2a49cfe8ac4129284.zip:   0%|          | 0.00/458k [00:00<?, ?B/s]"
            ]
          },
          "metadata": {},
          "output_type": "display_data"
        },
        {
          "name": "stdout",
          "output_type": "stream",
          "text": [
            "✅ Saved: /content/drive/MyDrive/ERA5_REANALYSIS_2012_2024/era5_2020_10.nc\n",
            "🔄 Processing: 2020-11\n"
          ]
        },
        {
          "name": "stderr",
          "output_type": "stream",
          "text": [
            "2025-05-05 07:10:17,476 INFO Request ID is 68f94e79-b50c-4f84-944d-17063d32a892\n",
            "INFO:datapi.legacy_api_client:Request ID is 68f94e79-b50c-4f84-944d-17063d32a892\n",
            "2025-05-05 07:10:17,660 INFO status has been updated to accepted\n",
            "INFO:datapi.legacy_api_client:status has been updated to accepted\n",
            "2025-05-05 07:10:31,819 INFO status has been updated to running\n",
            "INFO:datapi.legacy_api_client:status has been updated to running\n",
            "2025-05-05 07:14:38,296 INFO status has been updated to successful\n",
            "INFO:datapi.legacy_api_client:status has been updated to successful\n"
          ]
        },
        {
          "data": {
            "application/vnd.jupyter.widget-view+json": {
              "model_id": "6adbe409eea24d08b0dc547298bf9ab8",
              "version_major": 2,
              "version_minor": 0
            },
            "text/plain": [
              "d9b2844b1c87450785cb5323ab12a972.zip:   0%|          | 0.00/435k [00:00<?, ?B/s]"
            ]
          },
          "metadata": {},
          "output_type": "display_data"
        },
        {
          "name": "stdout",
          "output_type": "stream",
          "text": [
            "✅ Saved: /content/drive/MyDrive/ERA5_REANALYSIS_2012_2024/era5_2020_11.nc\n",
            "🔄 Processing: 2020-12\n"
          ]
        },
        {
          "name": "stderr",
          "output_type": "stream",
          "text": [
            "2025-05-05 07:14:41,368 INFO Request ID is 8295746b-ad4a-4f73-898f-5e336b209da3\n",
            "INFO:datapi.legacy_api_client:Request ID is 8295746b-ad4a-4f73-898f-5e336b209da3\n",
            "2025-05-05 07:14:41,621 INFO status has been updated to accepted\n",
            "INFO:datapi.legacy_api_client:status has been updated to accepted\n",
            "2025-05-05 07:14:55,791 INFO status has been updated to running\n",
            "INFO:datapi.legacy_api_client:status has been updated to running\n",
            "2025-05-05 07:21:02,707 INFO status has been updated to successful\n",
            "INFO:datapi.legacy_api_client:status has been updated to successful\n"
          ]
        },
        {
          "data": {
            "application/vnd.jupyter.widget-view+json": {
              "model_id": "53b4f5525a404c28ac4d90effa71823b",
              "version_major": 2,
              "version_minor": 0
            },
            "text/plain": [
              "2fb23f91c94ddcd52ad6de3e4fa5666d.zip:   0%|          | 0.00/456k [00:00<?, ?B/s]"
            ]
          },
          "metadata": {},
          "output_type": "display_data"
        },
        {
          "name": "stdout",
          "output_type": "stream",
          "text": [
            "✅ Saved: /content/drive/MyDrive/ERA5_REANALYSIS_2012_2024/era5_2020_12.nc\n",
            "🔄 Processing: 2021-01\n"
          ]
        },
        {
          "name": "stderr",
          "output_type": "stream",
          "text": [
            "2025-05-05 07:21:05,798 INFO Request ID is a03c2943-50a2-48da-b7e1-ae04c0ec6135\n",
            "INFO:datapi.legacy_api_client:Request ID is a03c2943-50a2-48da-b7e1-ae04c0ec6135\n",
            "2025-05-05 07:21:05,982 INFO status has been updated to accepted\n",
            "INFO:datapi.legacy_api_client:status has been updated to accepted\n",
            "2025-05-05 07:21:28,055 INFO status has been updated to running\n",
            "INFO:datapi.legacy_api_client:status has been updated to running\n",
            "2025-05-05 07:27:27,114 INFO status has been updated to successful\n",
            "INFO:datapi.legacy_api_client:status has been updated to successful\n"
          ]
        },
        {
          "data": {
            "application/vnd.jupyter.widget-view+json": {
              "model_id": "1a0209c7be8d472db2cc3896c5661165",
              "version_major": 2,
              "version_minor": 0
            },
            "text/plain": [
              "8b5a015686adf49620c222fecf8a7be6.zip:   0%|          | 0.00/458k [00:00<?, ?B/s]"
            ]
          },
          "metadata": {},
          "output_type": "display_data"
        },
        {
          "name": "stdout",
          "output_type": "stream",
          "text": [
            "✅ Saved: /content/drive/MyDrive/ERA5_REANALYSIS_2012_2024/era5_2021_01.nc\n",
            "🔄 Processing: 2021-02\n"
          ]
        },
        {
          "name": "stderr",
          "output_type": "stream",
          "text": [
            "2025-05-05 07:27:30,083 INFO Request ID is e063101d-4421-468c-8e42-46231ecb10d3\n",
            "INFO:datapi.legacy_api_client:Request ID is e063101d-4421-468c-8e42-46231ecb10d3\n",
            "2025-05-05 07:27:30,255 INFO status has been updated to accepted\n",
            "INFO:datapi.legacy_api_client:status has been updated to accepted\n",
            "2025-05-05 07:28:03,858 INFO status has been updated to running\n",
            "INFO:datapi.legacy_api_client:status has been updated to running\n",
            "2025-05-05 07:31:50,675 INFO status has been updated to successful\n",
            "INFO:datapi.legacy_api_client:status has been updated to successful\n"
          ]
        },
        {
          "data": {
            "application/vnd.jupyter.widget-view+json": {
              "model_id": "10f83987a14941d1888944e6f6ee39c5",
              "version_major": 2,
              "version_minor": 0
            },
            "text/plain": [
              "76f88fedbfe7f127aca8d90a8ed67d7e.zip:   0%|          | 0.00/426k [00:00<?, ?B/s]"
            ]
          },
          "metadata": {},
          "output_type": "display_data"
        },
        {
          "name": "stdout",
          "output_type": "stream",
          "text": [
            "✅ Saved: /content/drive/MyDrive/ERA5_REANALYSIS_2012_2024/era5_2021_02.nc\n",
            "🔄 Processing: 2021-03\n"
          ]
        },
        {
          "name": "stderr",
          "output_type": "stream",
          "text": [
            "2025-05-05 07:31:53,535 INFO Request ID is 6c805d6b-6f70-4184-8d42-b6eade5984d1\n",
            "INFO:datapi.legacy_api_client:Request ID is 6c805d6b-6f70-4184-8d42-b6eade5984d1\n",
            "2025-05-05 07:31:53,746 INFO status has been updated to accepted\n",
            "INFO:datapi.legacy_api_client:status has been updated to accepted\n",
            "2025-05-05 07:32:15,831 INFO status has been updated to running\n",
            "INFO:datapi.legacy_api_client:status has been updated to running\n",
            "2025-05-05 07:38:14,800 INFO status has been updated to successful\n",
            "INFO:datapi.legacy_api_client:status has been updated to successful\n"
          ]
        },
        {
          "data": {
            "application/vnd.jupyter.widget-view+json": {
              "model_id": "d8c4a487673c4c8fb02f11c77e9c7083",
              "version_major": 2,
              "version_minor": 0
            },
            "text/plain": [
              "95c7adb13cf1a7e6d3c5cc1c96ab9f27.zip:   0%|          | 0.00/458k [00:00<?, ?B/s]"
            ]
          },
          "metadata": {},
          "output_type": "display_data"
        },
        {
          "name": "stdout",
          "output_type": "stream",
          "text": [
            "✅ Saved: /content/drive/MyDrive/ERA5_REANALYSIS_2012_2024/era5_2021_03.nc\n",
            "🔄 Processing: 2021-04\n"
          ]
        },
        {
          "name": "stderr",
          "output_type": "stream",
          "text": [
            "2025-05-05 07:38:17,471 INFO Request ID is 43165ecd-a9d3-441d-b1f1-828ad8c7a2f5\n",
            "INFO:datapi.legacy_api_client:Request ID is 43165ecd-a9d3-441d-b1f1-828ad8c7a2f5\n",
            "2025-05-05 07:38:17,667 INFO status has been updated to accepted\n",
            "INFO:datapi.legacy_api_client:status has been updated to accepted\n",
            "2025-05-05 07:38:39,541 INFO status has been updated to running\n",
            "INFO:datapi.legacy_api_client:status has been updated to running\n",
            "2025-05-05 07:44:38,516 INFO status has been updated to successful\n",
            "INFO:datapi.legacy_api_client:status has been updated to successful\n"
          ]
        },
        {
          "data": {
            "application/vnd.jupyter.widget-view+json": {
              "model_id": "fb58939dd3a045b88316a65a222567fd",
              "version_major": 2,
              "version_minor": 0
            },
            "text/plain": [
              "800ca83cafcc1cc854430cedda75eff9.zip:   0%|          | 0.00/459k [00:00<?, ?B/s]"
            ]
          },
          "metadata": {},
          "output_type": "display_data"
        },
        {
          "name": "stdout",
          "output_type": "stream",
          "text": [
            "✅ Saved: /content/drive/MyDrive/ERA5_REANALYSIS_2012_2024/era5_2021_04.nc\n",
            "🔄 Processing: 2021-05\n"
          ]
        },
        {
          "name": "stderr",
          "output_type": "stream",
          "text": [
            "2025-05-05 07:44:43,201 INFO Request ID is ab1a9931-924a-4fb6-8968-d2b7226ac558\n",
            "INFO:datapi.legacy_api_client:Request ID is ab1a9931-924a-4fb6-8968-d2b7226ac558\n",
            "2025-05-05 07:44:43,403 INFO status has been updated to accepted\n",
            "INFO:datapi.legacy_api_client:status has been updated to accepted\n",
            "2025-05-05 07:45:05,374 INFO status has been updated to running\n",
            "INFO:datapi.legacy_api_client:status has been updated to running\n",
            "2025-05-05 07:51:09,363 INFO status has been updated to successful\n",
            "INFO:datapi.legacy_api_client:status has been updated to successful\n"
          ]
        },
        {
          "data": {
            "application/vnd.jupyter.widget-view+json": {
              "model_id": "f98a9f30bc3c48328f0c81644d06e745",
              "version_major": 2,
              "version_minor": 0
            },
            "text/plain": [
              "14d0dcb030c634f6f958af06d822e7fc.zip:   0%|          | 0.00/475k [00:00<?, ?B/s]"
            ]
          },
          "metadata": {},
          "output_type": "display_data"
        },
        {
          "name": "stdout",
          "output_type": "stream",
          "text": [
            "✅ Saved: /content/drive/MyDrive/ERA5_REANALYSIS_2012_2024/era5_2021_05.nc\n",
            "🔄 Processing: 2021-06\n"
          ]
        },
        {
          "name": "stderr",
          "output_type": "stream",
          "text": [
            "2025-05-05 07:51:12,430 INFO Request ID is 0f540184-bf94-46e5-8119-ae3c69589ee6\n",
            "INFO:datapi.legacy_api_client:Request ID is 0f540184-bf94-46e5-8119-ae3c69589ee6\n",
            "2025-05-05 07:51:12,604 INFO status has been updated to accepted\n",
            "INFO:datapi.legacy_api_client:status has been updated to accepted\n",
            "2025-05-05 07:51:47,304 INFO status has been updated to running\n",
            "INFO:datapi.legacy_api_client:status has been updated to running\n",
            "2025-05-05 07:57:34,566 INFO status has been updated to successful\n",
            "INFO:datapi.legacy_api_client:status has been updated to successful\n"
          ]
        },
        {
          "data": {
            "application/vnd.jupyter.widget-view+json": {
              "model_id": "c6eaff46ef394a19a57baac273a99552",
              "version_major": 2,
              "version_minor": 0
            },
            "text/plain": [
              "7e04c88c9472ada3a8cd4c1d7e0b56bf.zip:   0%|          | 0.00/467k [00:00<?, ?B/s]"
            ]
          },
          "metadata": {},
          "output_type": "display_data"
        },
        {
          "name": "stdout",
          "output_type": "stream",
          "text": [
            "✅ Saved: /content/drive/MyDrive/ERA5_REANALYSIS_2012_2024/era5_2021_06.nc\n",
            "🔄 Processing: 2021-07\n"
          ]
        },
        {
          "name": "stderr",
          "output_type": "stream",
          "text": [
            "2025-05-05 07:57:37,671 INFO Request ID is 9f9227b0-ba57-48ac-bd26-9591208a2f6b\n",
            "INFO:datapi.legacy_api_client:Request ID is 9f9227b0-ba57-48ac-bd26-9591208a2f6b\n",
            "2025-05-05 07:57:37,846 INFO status has been updated to accepted\n",
            "INFO:datapi.legacy_api_client:status has been updated to accepted\n",
            "2025-05-05 07:57:59,700 INFO status has been updated to running\n",
            "INFO:datapi.legacy_api_client:status has been updated to running\n",
            "2025-05-05 08:03:58,875 INFO status has been updated to successful\n",
            "INFO:datapi.legacy_api_client:status has been updated to successful\n"
          ]
        },
        {
          "data": {
            "application/vnd.jupyter.widget-view+json": {
              "model_id": "2877a2fd4b3b4030be65102dc9a983c0",
              "version_major": 2,
              "version_minor": 0
            },
            "text/plain": [
              "69b60ac270dda982d23f48318b6e2801.zip:   0%|          | 0.00/477k [00:00<?, ?B/s]"
            ]
          },
          "metadata": {},
          "output_type": "display_data"
        },
        {
          "name": "stdout",
          "output_type": "stream",
          "text": [
            "✅ Saved: /content/drive/MyDrive/ERA5_REANALYSIS_2012_2024/era5_2021_07.nc\n",
            "🔄 Processing: 2021-08\n"
          ]
        },
        {
          "name": "stderr",
          "output_type": "stream",
          "text": [
            "2025-05-05 08:04:02,210 INFO Request ID is c1b25f96-071c-4c2b-830b-93a3c794b5ac\n",
            "INFO:datapi.legacy_api_client:Request ID is c1b25f96-071c-4c2b-830b-93a3c794b5ac\n",
            "2025-05-05 08:04:02,406 INFO status has been updated to accepted\n",
            "INFO:datapi.legacy_api_client:status has been updated to accepted\n",
            "2025-05-05 08:04:16,488 INFO status has been updated to running\n",
            "INFO:datapi.legacy_api_client:status has been updated to running\n",
            "2025-05-05 08:10:23,364 INFO status has been updated to successful\n",
            "INFO:datapi.legacy_api_client:status has been updated to successful\n"
          ]
        },
        {
          "data": {
            "application/vnd.jupyter.widget-view+json": {
              "model_id": "de380251b9f94ba0b159eb5a65685c63",
              "version_major": 2,
              "version_minor": 0
            },
            "text/plain": [
              "bdd1ed64f31afc82a9e076e6f0072d33.zip:   0%|          | 0.00/472k [00:00<?, ?B/s]"
            ]
          },
          "metadata": {},
          "output_type": "display_data"
        },
        {
          "name": "stdout",
          "output_type": "stream",
          "text": [
            "✅ Saved: /content/drive/MyDrive/ERA5_REANALYSIS_2012_2024/era5_2021_08.nc\n",
            "🔄 Processing: 2021-09\n"
          ]
        },
        {
          "name": "stderr",
          "output_type": "stream",
          "text": [
            "2025-05-05 08:10:26,562 INFO Request ID is cb327d8b-ca74-4615-80cd-419a3ea2a9d1\n",
            "INFO:datapi.legacy_api_client:Request ID is cb327d8b-ca74-4615-80cd-419a3ea2a9d1\n",
            "2025-05-05 08:10:26,747 INFO status has been updated to accepted\n",
            "INFO:datapi.legacy_api_client:status has been updated to accepted\n",
            "2025-05-05 08:11:17,781 INFO status has been updated to running\n",
            "INFO:datapi.legacy_api_client:status has been updated to running\n",
            "2025-05-05 08:16:48,112 INFO status has been updated to successful\n",
            "INFO:datapi.legacy_api_client:status has been updated to successful\n"
          ]
        },
        {
          "data": {
            "application/vnd.jupyter.widget-view+json": {
              "model_id": "2f20ecdb02d14c268de1af5b3a8e8e62",
              "version_major": 2,
              "version_minor": 0
            },
            "text/plain": [
              "7b55cfe39f981c1659473fbb97ba7528.zip:   0%|          | 0.00/456k [00:00<?, ?B/s]"
            ]
          },
          "metadata": {},
          "output_type": "display_data"
        },
        {
          "name": "stdout",
          "output_type": "stream",
          "text": [
            "✅ Saved: /content/drive/MyDrive/ERA5_REANALYSIS_2012_2024/era5_2021_09.nc\n",
            "🔄 Processing: 2021-10\n"
          ]
        },
        {
          "name": "stderr",
          "output_type": "stream",
          "text": [
            "2025-05-05 08:16:50,894 INFO Request ID is 1cd243bc-c381-4dca-b2ea-c616e84fb809\n",
            "INFO:datapi.legacy_api_client:Request ID is 1cd243bc-c381-4dca-b2ea-c616e84fb809\n",
            "2025-05-05 08:16:51,082 INFO status has been updated to accepted\n",
            "INFO:datapi.legacy_api_client:status has been updated to accepted\n",
            "2025-05-05 08:17:05,545 INFO status has been updated to running\n",
            "INFO:datapi.legacy_api_client:status has been updated to running\n",
            "2025-05-05 08:23:12,483 INFO status has been updated to successful\n",
            "INFO:datapi.legacy_api_client:status has been updated to successful\n"
          ]
        },
        {
          "data": {
            "application/vnd.jupyter.widget-view+json": {
              "model_id": "feb64db16e774e94a5693e4ef5ddfebb",
              "version_major": 2,
              "version_minor": 0
            },
            "text/plain": [
              "362081cc861aace79f8fae3c3dd42930.zip:   0%|          | 0.00/454k [00:00<?, ?B/s]"
            ]
          },
          "metadata": {},
          "output_type": "display_data"
        },
        {
          "name": "stdout",
          "output_type": "stream",
          "text": [
            "✅ Saved: /content/drive/MyDrive/ERA5_REANALYSIS_2012_2024/era5_2021_10.nc\n",
            "🔄 Processing: 2021-11\n"
          ]
        },
        {
          "name": "stderr",
          "output_type": "stream",
          "text": [
            "2025-05-05 08:23:15,934 INFO Request ID is d1f252c1-eec9-4221-8a2d-a15b75897742\n",
            "INFO:datapi.legacy_api_client:Request ID is d1f252c1-eec9-4221-8a2d-a15b75897742\n",
            "2025-05-05 08:23:16,109 INFO status has been updated to accepted\n",
            "INFO:datapi.legacy_api_client:status has been updated to accepted\n",
            "2025-05-05 08:24:06,924 INFO status has been updated to running\n",
            "INFO:datapi.legacy_api_client:status has been updated to running\n",
            "2025-05-05 08:29:42,157 INFO status has been updated to successful\n",
            "INFO:datapi.legacy_api_client:status has been updated to successful\n"
          ]
        },
        {
          "data": {
            "application/vnd.jupyter.widget-view+json": {
              "model_id": "0f8ec7f9cbb446a49a6e34b58f67141d",
              "version_major": 2,
              "version_minor": 0
            },
            "text/plain": [
              "38d9f03e98f6abe2756bc5ba0212dfcb.zip:   0%|          | 0.00/447k [00:00<?, ?B/s]"
            ]
          },
          "metadata": {},
          "output_type": "display_data"
        },
        {
          "name": "stdout",
          "output_type": "stream",
          "text": [
            "✅ Saved: /content/drive/MyDrive/ERA5_REANALYSIS_2012_2024/era5_2021_11.nc\n",
            "🔄 Processing: 2021-12\n"
          ]
        },
        {
          "name": "stderr",
          "output_type": "stream",
          "text": [
            "2025-05-05 08:29:45,247 INFO Request ID is a66acad6-9526-4aed-9b40-fd9e8519ab7b\n",
            "INFO:datapi.legacy_api_client:Request ID is a66acad6-9526-4aed-9b40-fd9e8519ab7b\n",
            "2025-05-05 08:29:45,422 INFO status has been updated to accepted\n",
            "INFO:datapi.legacy_api_client:status has been updated to accepted\n",
            "2025-05-05 08:30:36,329 INFO status has been updated to running\n",
            "INFO:datapi.legacy_api_client:status has been updated to running\n",
            "2025-05-05 08:36:06,427 INFO status has been updated to successful\n",
            "INFO:datapi.legacy_api_client:status has been updated to successful\n"
          ]
        },
        {
          "data": {
            "application/vnd.jupyter.widget-view+json": {
              "model_id": "9e6b9853cea24639941fa5ff4470cc32",
              "version_major": 2,
              "version_minor": 0
            },
            "text/plain": [
              "5a8c8f300ed3ac5f358158d6166258b2.zip:   0%|          | 0.00/450k [00:00<?, ?B/s]"
            ]
          },
          "metadata": {},
          "output_type": "display_data"
        },
        {
          "name": "stdout",
          "output_type": "stream",
          "text": [
            "✅ Saved: /content/drive/MyDrive/ERA5_REANALYSIS_2012_2024/era5_2021_12.nc\n",
            "🔄 Processing: 2022-01\n"
          ]
        },
        {
          "name": "stderr",
          "output_type": "stream",
          "text": [
            "2025-05-05 08:36:09,739 INFO Request ID is ff6fd9a8-be6c-4ac7-a166-591aff12cf53\n",
            "INFO:datapi.legacy_api_client:Request ID is ff6fd9a8-be6c-4ac7-a166-591aff12cf53\n",
            "2025-05-05 08:36:09,910 INFO status has been updated to accepted\n",
            "INFO:datapi.legacy_api_client:status has been updated to accepted\n",
            "2025-05-05 08:36:43,624 INFO status has been updated to running\n",
            "INFO:datapi.legacy_api_client:status has been updated to running\n",
            "2025-05-05 08:37:00,878 INFO status has been updated to accepted\n",
            "INFO:datapi.legacy_api_client:status has been updated to accepted\n",
            "2025-05-05 08:37:26,686 INFO status has been updated to running\n",
            "INFO:datapi.legacy_api_client:status has been updated to running\n",
            "2025-05-05 08:42:30,895 INFO status has been updated to successful\n",
            "INFO:datapi.legacy_api_client:status has been updated to successful\n"
          ]
        },
        {
          "data": {
            "application/vnd.jupyter.widget-view+json": {
              "model_id": "78b35067e82b469c9d711d16e39838b3",
              "version_major": 2,
              "version_minor": 0
            },
            "text/plain": [
              "2e75f0b7cd3f4c9c857524229f5f1ad0.zip:   0%|          | 0.00/444k [00:00<?, ?B/s]"
            ]
          },
          "metadata": {},
          "output_type": "display_data"
        },
        {
          "name": "stdout",
          "output_type": "stream",
          "text": [
            "✅ Saved: /content/drive/MyDrive/ERA5_REANALYSIS_2012_2024/era5_2022_01.nc\n",
            "🔄 Processing: 2022-02\n"
          ]
        },
        {
          "name": "stderr",
          "output_type": "stream",
          "text": [
            "2025-05-05 08:42:33,719 INFO Request ID is 04c7e517-35a2-4278-88ee-994906b848c7\n",
            "INFO:datapi.legacy_api_client:Request ID is 04c7e517-35a2-4278-88ee-994906b848c7\n",
            "2025-05-05 08:42:33,900 INFO status has been updated to accepted\n",
            "INFO:datapi.legacy_api_client:status has been updated to accepted\n",
            "2025-05-05 08:42:50,840 INFO status has been updated to running\n",
            "INFO:datapi.legacy_api_client:status has been updated to running\n",
            "2025-05-05 08:50:59,500 INFO status has been updated to successful\n",
            "INFO:datapi.legacy_api_client:status has been updated to successful\n"
          ]
        },
        {
          "data": {
            "application/vnd.jupyter.widget-view+json": {
              "model_id": "4b0cd816592d4f00897b54f8ff9579ff",
              "version_major": 2,
              "version_minor": 0
            },
            "text/plain": [
              "5b84440a988127791e5ac10fe1b278b9.zip:   0%|          | 0.00/426k [00:00<?, ?B/s]"
            ]
          },
          "metadata": {},
          "output_type": "display_data"
        },
        {
          "name": "stdout",
          "output_type": "stream",
          "text": [
            "✅ Saved: /content/drive/MyDrive/ERA5_REANALYSIS_2012_2024/era5_2022_02.nc\n",
            "🔄 Processing: 2022-03\n"
          ]
        },
        {
          "name": "stderr",
          "output_type": "stream",
          "text": [
            "2025-05-05 08:51:02,281 INFO Request ID is cf3e6ba2-fa16-4266-990e-63c863d0fa59\n",
            "INFO:datapi.legacy_api_client:Request ID is cf3e6ba2-fa16-4266-990e-63c863d0fa59\n",
            "2025-05-05 08:51:02,464 INFO status has been updated to accepted\n",
            "INFO:datapi.legacy_api_client:status has been updated to accepted\n",
            "2025-05-05 08:51:11,526 INFO status has been updated to running\n",
            "INFO:datapi.legacy_api_client:status has been updated to running\n",
            "2025-05-05 08:55:22,935 INFO status has been updated to successful\n",
            "INFO:datapi.legacy_api_client:status has been updated to successful\n"
          ]
        },
        {
          "data": {
            "application/vnd.jupyter.widget-view+json": {
              "model_id": "0733d3ea9120406fb620cecb82d2c946",
              "version_major": 2,
              "version_minor": 0
            },
            "text/plain": [
              "a9cc8ce9104f2b598b3fc823038ac2ed.zip:   0%|          | 0.00/449k [00:00<?, ?B/s]"
            ]
          },
          "metadata": {},
          "output_type": "display_data"
        },
        {
          "name": "stdout",
          "output_type": "stream",
          "text": [
            "✅ Saved: /content/drive/MyDrive/ERA5_REANALYSIS_2012_2024/era5_2022_03.nc\n",
            "🔄 Processing: 2022-04\n"
          ]
        },
        {
          "name": "stderr",
          "output_type": "stream",
          "text": [
            "2025-05-05 08:55:26,308 INFO Request ID is 571e4648-9492-49a4-bcc0-678508da86e7\n",
            "INFO:datapi.legacy_api_client:Request ID is 571e4648-9492-49a4-bcc0-678508da86e7\n",
            "2025-05-05 08:55:26,608 INFO status has been updated to accepted\n",
            "INFO:datapi.legacy_api_client:status has been updated to accepted\n",
            "2025-05-05 08:55:48,538 INFO status has been updated to running\n",
            "INFO:datapi.legacy_api_client:status has been updated to running\n",
            "2025-05-05 08:56:00,121 INFO status has been updated to accepted\n",
            "INFO:datapi.legacy_api_client:status has been updated to accepted\n",
            "2025-05-05 08:56:17,377 INFO status has been updated to running\n",
            "INFO:datapi.legacy_api_client:status has been updated to running\n",
            "2025-05-05 09:01:47,567 INFO status has been updated to successful\n",
            "INFO:datapi.legacy_api_client:status has been updated to successful\n"
          ]
        },
        {
          "data": {
            "application/vnd.jupyter.widget-view+json": {
              "model_id": "48adde6d786647f0bc288a451e529805",
              "version_major": 2,
              "version_minor": 0
            },
            "text/plain": [
              "9a4778fada4f40af30fa462fd6820a35.zip:   0%|          | 0.00/460k [00:00<?, ?B/s]"
            ]
          },
          "metadata": {},
          "output_type": "display_data"
        },
        {
          "name": "stdout",
          "output_type": "stream",
          "text": [
            "✅ Saved: /content/drive/MyDrive/ERA5_REANALYSIS_2012_2024/era5_2022_04.nc\n",
            "🔄 Processing: 2022-05\n"
          ]
        },
        {
          "name": "stderr",
          "output_type": "stream",
          "text": [
            "2025-05-05 09:01:51,338 INFO Request ID is 1fd4e7f4-9e80-4d2b-9858-dd7abd91aa2d\n",
            "INFO:datapi.legacy_api_client:Request ID is 1fd4e7f4-9e80-4d2b-9858-dd7abd91aa2d\n",
            "2025-05-05 09:01:51,522 INFO status has been updated to accepted\n",
            "INFO:datapi.legacy_api_client:status has been updated to accepted\n",
            "2025-05-05 09:02:42,894 INFO status has been updated to running\n",
            "INFO:datapi.legacy_api_client:status has been updated to running\n",
            "2025-05-05 09:12:14,687 INFO status has been updated to successful\n",
            "INFO:datapi.legacy_api_client:status has been updated to successful\n"
          ]
        },
        {
          "data": {
            "application/vnd.jupyter.widget-view+json": {
              "model_id": "eb6112cf47e14191b7111e4e98f6b364",
              "version_major": 2,
              "version_minor": 0
            },
            "text/plain": [
              "5e2574bf33b091c8dd5cbdc4db453c39.zip:   0%|          | 0.00/476k [00:00<?, ?B/s]"
            ]
          },
          "metadata": {},
          "output_type": "display_data"
        },
        {
          "name": "stdout",
          "output_type": "stream",
          "text": [
            "✅ Saved: /content/drive/MyDrive/ERA5_REANALYSIS_2012_2024/era5_2022_05.nc\n",
            "🔄 Processing: 2022-06\n"
          ]
        },
        {
          "name": "stderr",
          "output_type": "stream",
          "text": [
            "2025-05-05 09:12:17,505 INFO Request ID is d61a5e3d-085d-4345-b61a-bd7ee6cfb7e9\n",
            "INFO:datapi.legacy_api_client:Request ID is d61a5e3d-085d-4345-b61a-bd7ee6cfb7e9\n",
            "2025-05-05 09:12:17,683 INFO status has been updated to accepted\n",
            "INFO:datapi.legacy_api_client:status has been updated to accepted\n",
            "2025-05-05 09:12:51,309 INFO status has been updated to running\n",
            "INFO:datapi.legacy_api_client:status has been updated to running\n",
            "2025-05-05 09:16:38,504 INFO status has been updated to successful\n",
            "INFO:datapi.legacy_api_client:status has been updated to successful\n"
          ]
        },
        {
          "data": {
            "application/vnd.jupyter.widget-view+json": {
              "model_id": "cc5114e59eca431ab64db3a63c2a4445",
              "version_major": 2,
              "version_minor": 0
            },
            "text/plain": [
              "2916a2c51e80c3c066b3083bd5343d0c.zip:   0%|          | 0.00/461k [00:00<?, ?B/s]"
            ]
          },
          "metadata": {},
          "output_type": "display_data"
        },
        {
          "name": "stdout",
          "output_type": "stream",
          "text": [
            "✅ Saved: /content/drive/MyDrive/ERA5_REANALYSIS_2012_2024/era5_2022_06.nc\n",
            "🔄 Processing: 2022-07\n"
          ]
        },
        {
          "name": "stderr",
          "output_type": "stream",
          "text": [
            "2025-05-05 09:16:41,148 INFO Request ID is 36618f4c-1348-4e59-90b0-616ffcd830f6\n",
            "INFO:datapi.legacy_api_client:Request ID is 36618f4c-1348-4e59-90b0-616ffcd830f6\n",
            "2025-05-05 09:16:41,350 INFO status has been updated to accepted\n",
            "INFO:datapi.legacy_api_client:status has been updated to accepted\n",
            "2025-05-05 09:17:31,981 INFO status has been updated to running\n",
            "INFO:datapi.legacy_api_client:status has been updated to running\n",
            "2025-05-05 09:21:02,052 INFO status has been updated to successful\n",
            "INFO:datapi.legacy_api_client:status has been updated to successful\n"
          ]
        },
        {
          "data": {
            "application/vnd.jupyter.widget-view+json": {
              "model_id": "668722be9f174d1ca61d725760a905ed",
              "version_major": 2,
              "version_minor": 0
            },
            "text/plain": [
              "746d01e9efdb3af4c47d8c1df4359392.zip:   0%|          | 0.00/473k [00:00<?, ?B/s]"
            ]
          },
          "metadata": {},
          "output_type": "display_data"
        },
        {
          "name": "stdout",
          "output_type": "stream",
          "text": [
            "✅ Saved: /content/drive/MyDrive/ERA5_REANALYSIS_2012_2024/era5_2022_07.nc\n",
            "🔄 Processing: 2022-08\n"
          ]
        },
        {
          "name": "stderr",
          "output_type": "stream",
          "text": [
            "2025-05-05 09:21:04,751 INFO Request ID is 84c410f1-ffb3-4712-a178-a473271bac6f\n",
            "INFO:datapi.legacy_api_client:Request ID is 84c410f1-ffb3-4712-a178-a473271bac6f\n",
            "2025-05-05 09:21:04,924 INFO status has been updated to accepted\n",
            "INFO:datapi.legacy_api_client:status has been updated to accepted\n",
            "2025-05-05 09:21:28,678 INFO status has been updated to running\n",
            "INFO:datapi.legacy_api_client:status has been updated to running\n",
            "2025-05-05 09:27:27,591 INFO status has been updated to successful\n",
            "INFO:datapi.legacy_api_client:status has been updated to successful\n"
          ]
        },
        {
          "data": {
            "application/vnd.jupyter.widget-view+json": {
              "model_id": "bc8cd5992fb8440d83c45567e8eb8942",
              "version_major": 2,
              "version_minor": 0
            },
            "text/plain": [
              "1e98081bdd12e46a240515ac624ec84a.zip:   0%|          | 0.00/471k [00:00<?, ?B/s]"
            ]
          },
          "metadata": {},
          "output_type": "display_data"
        },
        {
          "name": "stdout",
          "output_type": "stream",
          "text": [
            "✅ Saved: /content/drive/MyDrive/ERA5_REANALYSIS_2012_2024/era5_2022_08.nc\n",
            "🔄 Processing: 2022-09\n"
          ]
        },
        {
          "name": "stderr",
          "output_type": "stream",
          "text": [
            "2025-05-05 09:27:30,942 INFO Request ID is c3747974-9114-47be-8570-131296d38356\n",
            "INFO:datapi.legacy_api_client:Request ID is c3747974-9114-47be-8570-131296d38356\n",
            "2025-05-05 09:27:31,120 INFO status has been updated to accepted\n",
            "INFO:datapi.legacy_api_client:status has been updated to accepted\n",
            "2025-05-05 09:28:47,730 INFO status has been updated to running\n",
            "INFO:datapi.legacy_api_client:status has been updated to running\n",
            "2025-05-05 09:33:52,186 INFO status has been updated to successful\n",
            "INFO:datapi.legacy_api_client:status has been updated to successful\n"
          ]
        },
        {
          "data": {
            "application/vnd.jupyter.widget-view+json": {
              "model_id": "cbfdb5f0bc6346c3ae90e9d1b32eaa2c",
              "version_major": 2,
              "version_minor": 0
            },
            "text/plain": [
              "da34e17695c9e54ee65894cfb15f8358.zip:   0%|          | 0.00/461k [00:00<?, ?B/s]"
            ]
          },
          "metadata": {},
          "output_type": "display_data"
        },
        {
          "name": "stdout",
          "output_type": "stream",
          "text": [
            "✅ Saved: /content/drive/MyDrive/ERA5_REANALYSIS_2012_2024/era5_2022_09.nc\n",
            "🔄 Processing: 2022-10\n"
          ]
        },
        {
          "name": "stderr",
          "output_type": "stream",
          "text": [
            "2025-05-05 09:33:56,076 INFO Request ID is 9a1a943a-c81f-4d8c-a840-5ecdecb21c5e\n",
            "INFO:datapi.legacy_api_client:Request ID is 9a1a943a-c81f-4d8c-a840-5ecdecb21c5e\n",
            "2025-05-05 09:33:56,263 INFO status has been updated to accepted\n",
            "INFO:datapi.legacy_api_client:status has been updated to accepted\n",
            "2025-05-05 09:34:05,180 INFO status has been updated to running\n",
            "INFO:datapi.legacy_api_client:status has been updated to running\n",
            "2025-05-05 09:40:17,059 INFO status has been updated to successful\n",
            "INFO:datapi.legacy_api_client:status has been updated to successful\n"
          ]
        },
        {
          "data": {
            "application/vnd.jupyter.widget-view+json": {
              "model_id": "a8e2a254e090405bbc092c78c0002774",
              "version_major": 2,
              "version_minor": 0
            },
            "text/plain": [
              "61804b0245b7ef9e42608f682c7e4880.zip:   0%|          | 0.00/457k [00:00<?, ?B/s]"
            ]
          },
          "metadata": {},
          "output_type": "display_data"
        },
        {
          "name": "stdout",
          "output_type": "stream",
          "text": [
            "✅ Saved: /content/drive/MyDrive/ERA5_REANALYSIS_2012_2024/era5_2022_10.nc\n",
            "🔄 Processing: 2022-11\n"
          ]
        },
        {
          "name": "stderr",
          "output_type": "stream",
          "text": [
            "2025-05-05 09:40:19,857 INFO Request ID is 4e8f421d-3d02-4651-a75a-cd644bc19857\n",
            "INFO:datapi.legacy_api_client:Request ID is 4e8f421d-3d02-4651-a75a-cd644bc19857\n",
            "2025-05-05 09:40:20,039 INFO status has been updated to accepted\n",
            "INFO:datapi.legacy_api_client:status has been updated to accepted\n",
            "2025-05-05 09:40:41,867 INFO status has been updated to running\n",
            "INFO:datapi.legacy_api_client:status has been updated to running\n",
            "2025-05-05 09:46:40,738 INFO status has been updated to successful\n",
            "INFO:datapi.legacy_api_client:status has been updated to successful\n"
          ]
        },
        {
          "data": {
            "application/vnd.jupyter.widget-view+json": {
              "model_id": "a228bf25c2f54be6bb83b367de824ded",
              "version_major": 2,
              "version_minor": 0
            },
            "text/plain": [
              "7f6feee8651553595561c078d21d12a5.zip:   0%|          | 0.00/444k [00:00<?, ?B/s]"
            ]
          },
          "metadata": {},
          "output_type": "display_data"
        },
        {
          "name": "stdout",
          "output_type": "stream",
          "text": [
            "✅ Saved: /content/drive/MyDrive/ERA5_REANALYSIS_2012_2024/era5_2022_11.nc\n",
            "🔄 Processing: 2022-12\n"
          ]
        },
        {
          "name": "stderr",
          "output_type": "stream",
          "text": [
            "2025-05-05 09:46:43,762 INFO Request ID is e882679a-0f2d-4e34-bb8e-750e43c601c4\n",
            "INFO:datapi.legacy_api_client:Request ID is e882679a-0f2d-4e34-bb8e-750e43c601c4\n",
            "2025-05-05 09:46:43,969 INFO status has been updated to accepted\n",
            "INFO:datapi.legacy_api_client:status has been updated to accepted\n",
            "2025-05-05 09:46:58,140 INFO status has been updated to running\n",
            "INFO:datapi.legacy_api_client:status has been updated to running\n",
            "2025-05-05 09:51:04,774 INFO status has been updated to successful\n",
            "INFO:datapi.legacy_api_client:status has been updated to successful\n"
          ]
        },
        {
          "data": {
            "application/vnd.jupyter.widget-view+json": {
              "model_id": "212b58ea18e44079ad6762e0b479c42b",
              "version_major": 2,
              "version_minor": 0
            },
            "text/plain": [
              "b7e2ba79cadd4f483f142a199b6d98c8.zip:   0%|          | 0.00/460k [00:00<?, ?B/s]"
            ]
          },
          "metadata": {},
          "output_type": "display_data"
        },
        {
          "name": "stdout",
          "output_type": "stream",
          "text": [
            "✅ Saved: /content/drive/MyDrive/ERA5_REANALYSIS_2012_2024/era5_2022_12.nc\n",
            "🔄 Processing: 2023-01\n"
          ]
        },
        {
          "name": "stderr",
          "output_type": "stream",
          "text": [
            "2025-05-05 09:51:08,232 INFO Request ID is bc338fed-7147-4fea-a260-457c23758496\n",
            "INFO:datapi.legacy_api_client:Request ID is bc338fed-7147-4fea-a260-457c23758496\n",
            "2025-05-05 09:51:08,408 INFO status has been updated to accepted\n",
            "INFO:datapi.legacy_api_client:status has been updated to accepted\n",
            "2025-05-05 09:51:41,888 INFO status has been updated to running\n",
            "INFO:datapi.legacy_api_client:status has been updated to running\n",
            "2025-05-05 09:57:29,885 INFO status has been updated to successful\n",
            "INFO:datapi.legacy_api_client:status has been updated to successful\n"
          ]
        },
        {
          "data": {
            "application/vnd.jupyter.widget-view+json": {
              "model_id": "114e037a5d044f78a7c51efb66133476",
              "version_major": 2,
              "version_minor": 0
            },
            "text/plain": [
              "389a1b8d34210a800c58b292007a17fb.zip:   0%|          | 0.00/460k [00:00<?, ?B/s]"
            ]
          },
          "metadata": {},
          "output_type": "display_data"
        },
        {
          "name": "stdout",
          "output_type": "stream",
          "text": [
            "✅ Saved: /content/drive/MyDrive/ERA5_REANALYSIS_2012_2024/era5_2023_01.nc\n",
            "🔄 Processing: 2023-02\n"
          ]
        },
        {
          "name": "stderr",
          "output_type": "stream",
          "text": [
            "2025-05-05 09:57:33,105 INFO Request ID is eb9e13ff-60b6-4be3-ba98-196c2f0876f2\n",
            "INFO:datapi.legacy_api_client:Request ID is eb9e13ff-60b6-4be3-ba98-196c2f0876f2\n",
            "2025-05-05 09:57:33,285 INFO status has been updated to accepted\n",
            "INFO:datapi.legacy_api_client:status has been updated to accepted\n",
            "2025-05-05 09:57:47,859 INFO status has been updated to running\n",
            "INFO:datapi.legacy_api_client:status has been updated to running\n",
            "2025-05-05 09:59:28,910 INFO status has been updated to accepted\n",
            "INFO:datapi.legacy_api_client:status has been updated to accepted\n",
            "2025-05-05 10:00:27,564 INFO status has been updated to running\n",
            "INFO:datapi.legacy_api_client:status has been updated to running\n",
            "2025-05-05 10:03:55,099 INFO status has been updated to successful\n",
            "INFO:datapi.legacy_api_client:status has been updated to successful\n"
          ]
        },
        {
          "data": {
            "application/vnd.jupyter.widget-view+json": {
              "model_id": "b10b0083fb194a66a8f030e967e7ac8d",
              "version_major": 2,
              "version_minor": 0
            },
            "text/plain": [
              "d104c087d00989fb845445ed855ce72b.zip:   0%|          | 0.00/426k [00:00<?, ?B/s]"
            ]
          },
          "metadata": {},
          "output_type": "display_data"
        },
        {
          "name": "stdout",
          "output_type": "stream",
          "text": [
            "✅ Saved: /content/drive/MyDrive/ERA5_REANALYSIS_2012_2024/era5_2023_02.nc\n",
            "🔄 Processing: 2023-03\n"
          ]
        },
        {
          "name": "stderr",
          "output_type": "stream",
          "text": [
            "2025-05-05 10:03:58,071 INFO Request ID is 4f0a0869-cf14-4a91-891e-df7553b02c15\n",
            "INFO:datapi.legacy_api_client:Request ID is 4f0a0869-cf14-4a91-891e-df7553b02c15\n",
            "2025-05-05 10:03:58,247 INFO status has been updated to accepted\n",
            "INFO:datapi.legacy_api_client:status has been updated to accepted\n",
            "2025-05-05 10:04:20,334 INFO status has been updated to running\n",
            "INFO:datapi.legacy_api_client:status has been updated to running\n",
            "2025-05-05 10:10:19,369 INFO status has been updated to successful\n",
            "INFO:datapi.legacy_api_client:status has been updated to successful\n"
          ]
        },
        {
          "data": {
            "application/vnd.jupyter.widget-view+json": {
              "model_id": "774ed2531e524d2182efca4d085bff1e",
              "version_major": 2,
              "version_minor": 0
            },
            "text/plain": [
              "90f6159104c3f8db64414198f79f5dc8.zip:   0%|          | 0.00/466k [00:00<?, ?B/s]"
            ]
          },
          "metadata": {},
          "output_type": "display_data"
        },
        {
          "name": "stdout",
          "output_type": "stream",
          "text": [
            "✅ Saved: /content/drive/MyDrive/ERA5_REANALYSIS_2012_2024/era5_2023_03.nc\n",
            "🔄 Processing: 2023-04\n"
          ]
        },
        {
          "name": "stderr",
          "output_type": "stream",
          "text": [
            "2025-05-05 10:10:22,121 INFO Request ID is 31dc6219-0283-49e5-bb74-1cf5aebc12df\n",
            "INFO:datapi.legacy_api_client:Request ID is 31dc6219-0283-49e5-bb74-1cf5aebc12df\n",
            "2025-05-05 10:10:22,302 INFO status has been updated to accepted\n",
            "INFO:datapi.legacy_api_client:status has been updated to accepted\n",
            "2025-05-05 10:10:44,135 INFO status has been updated to running\n",
            "INFO:datapi.legacy_api_client:status has been updated to running\n",
            "2025-05-05 10:16:42,961 INFO status has been updated to successful\n",
            "INFO:datapi.legacy_api_client:status has been updated to successful\n"
          ]
        },
        {
          "data": {
            "application/vnd.jupyter.widget-view+json": {
              "model_id": "a26d2c7cda2f4dbcbb9d336233344614",
              "version_major": 2,
              "version_minor": 0
            },
            "text/plain": [
              "2390377ae76fbae8c540fe9d642ad36e.zip:   0%|          | 0.00/463k [00:00<?, ?B/s]"
            ]
          },
          "metadata": {},
          "output_type": "display_data"
        },
        {
          "name": "stdout",
          "output_type": "stream",
          "text": [
            "✅ Saved: /content/drive/MyDrive/ERA5_REANALYSIS_2012_2024/era5_2023_04.nc\n",
            "🔄 Processing: 2023-05\n"
          ]
        },
        {
          "name": "stderr",
          "output_type": "stream",
          "text": [
            "2025-05-05 10:16:45,857 INFO Request ID is 14076d85-4536-43f5-9707-139eea436795\n",
            "INFO:datapi.legacy_api_client:Request ID is 14076d85-4536-43f5-9707-139eea436795\n",
            "2025-05-05 10:16:46,034 INFO status has been updated to accepted\n",
            "INFO:datapi.legacy_api_client:status has been updated to accepted\n",
            "2025-05-05 10:17:07,899 INFO status has been updated to running\n",
            "INFO:datapi.legacy_api_client:status has been updated to running\n",
            "2025-05-05 10:23:06,928 INFO status has been updated to successful\n",
            "INFO:datapi.legacy_api_client:status has been updated to successful\n"
          ]
        },
        {
          "data": {
            "application/vnd.jupyter.widget-view+json": {
              "model_id": "54dd33068df84fec83e6100e8b19775d",
              "version_major": 2,
              "version_minor": 0
            },
            "text/plain": [
              "d01a5f2adccf54e6625f66178c42d580.zip:   0%|          | 0.00/474k [00:00<?, ?B/s]"
            ]
          },
          "metadata": {},
          "output_type": "display_data"
        },
        {
          "name": "stdout",
          "output_type": "stream",
          "text": [
            "✅ Saved: /content/drive/MyDrive/ERA5_REANALYSIS_2012_2024/era5_2023_05.nc\n",
            "🔄 Processing: 2023-06\n"
          ]
        },
        {
          "name": "stderr",
          "output_type": "stream",
          "text": [
            "2025-05-05 10:23:10,197 INFO Request ID is 9ced2ef3-fb9d-4a2e-9d38-823c7c0d03b9\n",
            "INFO:datapi.legacy_api_client:Request ID is 9ced2ef3-fb9d-4a2e-9d38-823c7c0d03b9\n",
            "2025-05-05 10:23:10,372 INFO status has been updated to accepted\n",
            "INFO:datapi.legacy_api_client:status has been updated to accepted\n",
            "2025-05-05 10:23:32,635 INFO status has been updated to running\n",
            "INFO:datapi.legacy_api_client:status has been updated to running\n",
            "2025-05-05 10:29:31,510 INFO status has been updated to successful\n",
            "INFO:datapi.legacy_api_client:status has been updated to successful\n"
          ]
        },
        {
          "data": {
            "application/vnd.jupyter.widget-view+json": {
              "model_id": "0c5175a87be7422fac746adc43e58dc5",
              "version_major": 2,
              "version_minor": 0
            },
            "text/plain": [
              "6f6edcca680b7017f40d75893471f3b0.zip:   0%|          | 0.00/467k [00:00<?, ?B/s]"
            ]
          },
          "metadata": {},
          "output_type": "display_data"
        },
        {
          "name": "stdout",
          "output_type": "stream",
          "text": [
            "✅ Saved: /content/drive/MyDrive/ERA5_REANALYSIS_2012_2024/era5_2023_06.nc\n",
            "🔄 Processing: 2023-07\n"
          ]
        },
        {
          "name": "stderr",
          "output_type": "stream",
          "text": [
            "2025-05-05 10:29:34,314 INFO Request ID is 6f3d6dd4-3dde-4e66-9a91-b08c9ae0ae91\n",
            "INFO:datapi.legacy_api_client:Request ID is 6f3d6dd4-3dde-4e66-9a91-b08c9ae0ae91\n",
            "2025-05-05 10:29:34,493 INFO status has been updated to accepted\n",
            "INFO:datapi.legacy_api_client:status has been updated to accepted\n",
            "2025-05-05 10:29:39,784 INFO status has been updated to running\n",
            "INFO:datapi.legacy_api_client:status has been updated to running\n",
            "2025-05-05 10:35:55,324 INFO status has been updated to successful\n",
            "INFO:datapi.legacy_api_client:status has been updated to successful\n"
          ]
        },
        {
          "data": {
            "application/vnd.jupyter.widget-view+json": {
              "model_id": "a6f7ba275dbd43afb44027fc8a4353da",
              "version_major": 2,
              "version_minor": 0
            },
            "text/plain": [
              "7b55707e968c0cda4aa3411ea950857c.zip:   0%|          | 0.00/477k [00:00<?, ?B/s]"
            ]
          },
          "metadata": {},
          "output_type": "display_data"
        },
        {
          "name": "stdout",
          "output_type": "stream",
          "text": [
            "✅ Saved: /content/drive/MyDrive/ERA5_REANALYSIS_2012_2024/era5_2023_07.nc\n",
            "🔄 Processing: 2023-08\n"
          ]
        },
        {
          "name": "stderr",
          "output_type": "stream",
          "text": [
            "2025-05-05 10:35:58,272 INFO Request ID is e0167428-b496-4eef-bd40-2fba9268ef85\n",
            "INFO:datapi.legacy_api_client:Request ID is e0167428-b496-4eef-bd40-2fba9268ef85\n",
            "2025-05-05 10:35:58,455 INFO status has been updated to accepted\n",
            "INFO:datapi.legacy_api_client:status has been updated to accepted\n",
            "2025-05-05 10:36:12,584 INFO status has been updated to running\n",
            "INFO:datapi.legacy_api_client:status has been updated to running\n",
            "2025-05-05 10:42:19,370 INFO status has been updated to successful\n",
            "INFO:datapi.legacy_api_client:status has been updated to successful\n"
          ]
        },
        {
          "data": {
            "application/vnd.jupyter.widget-view+json": {
              "model_id": "50f5b4b8e17748b5aab255b55fac326f",
              "version_major": 2,
              "version_minor": 0
            },
            "text/plain": [
              "e2dc8764ed2395fe987cf86ecce2beb5.zip:   0%|          | 0.00/470k [00:00<?, ?B/s]"
            ]
          },
          "metadata": {},
          "output_type": "display_data"
        },
        {
          "name": "stdout",
          "output_type": "stream",
          "text": [
            "✅ Saved: /content/drive/MyDrive/ERA5_REANALYSIS_2012_2024/era5_2023_08.nc\n",
            "🔄 Processing: 2023-09\n"
          ]
        },
        {
          "name": "stderr",
          "output_type": "stream",
          "text": [
            "2025-05-05 10:42:22,153 INFO Request ID is 2ba150af-027d-4e7f-8006-b46a52d14183\n",
            "INFO:datapi.legacy_api_client:Request ID is 2ba150af-027d-4e7f-8006-b46a52d14183\n",
            "2025-05-05 10:42:22,340 INFO status has been updated to accepted\n",
            "INFO:datapi.legacy_api_client:status has been updated to accepted\n",
            "2025-05-05 10:42:37,730 INFO status has been updated to running\n",
            "INFO:datapi.legacy_api_client:status has been updated to running\n",
            "2025-05-05 10:46:44,291 INFO status has been updated to successful\n",
            "INFO:datapi.legacy_api_client:status has been updated to successful\n"
          ]
        },
        {
          "data": {
            "application/vnd.jupyter.widget-view+json": {
              "model_id": "24b0080dcf1147fc94d176700b8b6eaf",
              "version_major": 2,
              "version_minor": 0
            },
            "text/plain": [
              "9e7051ebce812403c0c00e1416f66222.zip:   0%|          | 0.00/452k [00:00<?, ?B/s]"
            ]
          },
          "metadata": {},
          "output_type": "display_data"
        },
        {
          "name": "stdout",
          "output_type": "stream",
          "text": [
            "✅ Saved: /content/drive/MyDrive/ERA5_REANALYSIS_2012_2024/era5_2023_09.nc\n",
            "🔄 Processing: 2023-10\n"
          ]
        },
        {
          "name": "stderr",
          "output_type": "stream",
          "text": [
            "2025-05-05 10:46:47,078 INFO Request ID is 81fcda39-1f51-425e-9053-2a492438b18d\n",
            "INFO:datapi.legacy_api_client:Request ID is 81fcda39-1f51-425e-9053-2a492438b18d\n",
            "2025-05-05 10:46:47,344 INFO status has been updated to accepted\n",
            "INFO:datapi.legacy_api_client:status has been updated to accepted\n",
            "2025-05-05 10:47:09,685 INFO status has been updated to running\n",
            "INFO:datapi.legacy_api_client:status has been updated to running\n",
            "2025-05-05 10:53:08,661 INFO status has been updated to successful\n",
            "INFO:datapi.legacy_api_client:status has been updated to successful\n"
          ]
        },
        {
          "data": {
            "application/vnd.jupyter.widget-view+json": {
              "model_id": "80f29bb82e0d448a9cd2ccf6df86015a",
              "version_major": 2,
              "version_minor": 0
            },
            "text/plain": [
              "eb2d3271d03e3b859bb4ad9e16f43664.zip:   0%|          | 0.00/456k [00:00<?, ?B/s]"
            ]
          },
          "metadata": {},
          "output_type": "display_data"
        },
        {
          "name": "stdout",
          "output_type": "stream",
          "text": [
            "✅ Saved: /content/drive/MyDrive/ERA5_REANALYSIS_2012_2024/era5_2023_10.nc\n",
            "🔄 Processing: 2023-11\n"
          ]
        },
        {
          "name": "stderr",
          "output_type": "stream",
          "text": [
            "2025-05-05 10:53:11,425 INFO Request ID is 09622583-a08a-4c7f-8f14-bf075c46d3b0\n",
            "INFO:datapi.legacy_api_client:Request ID is 09622583-a08a-4c7f-8f14-bf075c46d3b0\n",
            "2025-05-05 10:53:11,602 INFO status has been updated to accepted\n",
            "INFO:datapi.legacy_api_client:status has been updated to accepted\n",
            "2025-05-05 10:53:25,630 INFO status has been updated to running\n",
            "INFO:datapi.legacy_api_client:status has been updated to running\n",
            "2025-05-05 10:59:37,448 INFO status has been updated to successful\n",
            "INFO:datapi.legacy_api_client:status has been updated to successful\n"
          ]
        },
        {
          "data": {
            "application/vnd.jupyter.widget-view+json": {
              "model_id": "23a296a1c6124c408f812a878bace38e",
              "version_major": 2,
              "version_minor": 0
            },
            "text/plain": [
              "55593fe9d99fee64cfbaf8401cc3fe60.zip:   0%|          | 0.00/449k [00:00<?, ?B/s]"
            ]
          },
          "metadata": {},
          "output_type": "display_data"
        },
        {
          "name": "stdout",
          "output_type": "stream",
          "text": [
            "✅ Saved: /content/drive/MyDrive/ERA5_REANALYSIS_2012_2024/era5_2023_11.nc\n",
            "🔄 Processing: 2023-12\n"
          ]
        },
        {
          "name": "stderr",
          "output_type": "stream",
          "text": [
            "2025-05-05 10:59:40,767 INFO Request ID is 7ad07e56-b249-475c-a914-46679d43cbaa\n",
            "INFO:datapi.legacy_api_client:Request ID is 7ad07e56-b249-475c-a914-46679d43cbaa\n",
            "2025-05-05 10:59:40,949 INFO status has been updated to accepted\n",
            "INFO:datapi.legacy_api_client:status has been updated to accepted\n",
            "2025-05-05 11:00:02,823 INFO status has been updated to running\n",
            "INFO:datapi.legacy_api_client:status has been updated to running\n",
            "2025-05-05 11:06:01,908 INFO status has been updated to successful\n",
            "INFO:datapi.legacy_api_client:status has been updated to successful\n"
          ]
        },
        {
          "data": {
            "application/vnd.jupyter.widget-view+json": {
              "model_id": "07585d299d4245debd7c3357c3bd1c68",
              "version_major": 2,
              "version_minor": 0
            },
            "text/plain": [
              "ea689b2943f02a30bab20e7ce98e09.zip:   0%|          | 0.00/450k [00:00<?, ?B/s]"
            ]
          },
          "metadata": {},
          "output_type": "display_data"
        },
        {
          "name": "stdout",
          "output_type": "stream",
          "text": [
            "✅ Saved: /content/drive/MyDrive/ERA5_REANALYSIS_2012_2024/era5_2023_12.nc\n",
            "🔄 Processing: 2024-01\n"
          ]
        },
        {
          "name": "stderr",
          "output_type": "stream",
          "text": [
            "2025-05-05 11:06:04,781 INFO Request ID is 71259d05-bda4-4cce-b073-d5b8f118e8f3\n",
            "INFO:datapi.legacy_api_client:Request ID is 71259d05-bda4-4cce-b073-d5b8f118e8f3\n",
            "2025-05-05 11:06:05,038 INFO status has been updated to accepted\n",
            "INFO:datapi.legacy_api_client:status has been updated to accepted\n",
            "2025-05-05 11:06:27,232 INFO status has been updated to running\n",
            "INFO:datapi.legacy_api_client:status has been updated to running\n",
            "2025-05-05 11:10:26,448 INFO status has been updated to successful\n",
            "INFO:datapi.legacy_api_client:status has been updated to successful\n"
          ]
        },
        {
          "data": {
            "application/vnd.jupyter.widget-view+json": {
              "model_id": "f0aea6c2894d4be3975644bc7ce0603d",
              "version_major": 2,
              "version_minor": 0
            },
            "text/plain": [
              "be66f44b69ab632130a1719eb25fa827.zip:   0%|          | 0.00/448k [00:00<?, ?B/s]"
            ]
          },
          "metadata": {},
          "output_type": "display_data"
        },
        {
          "name": "stdout",
          "output_type": "stream",
          "text": [
            "✅ Saved: /content/drive/MyDrive/ERA5_REANALYSIS_2012_2024/era5_2024_01.nc\n",
            "🔄 Processing: 2024-02\n"
          ]
        },
        {
          "name": "stderr",
          "output_type": "stream",
          "text": [
            "2025-05-05 11:10:29,678 INFO Request ID is 71cd7316-30d5-4a5d-821b-f6c9cde0dbe7\n",
            "INFO:datapi.legacy_api_client:Request ID is 71cd7316-30d5-4a5d-821b-f6c9cde0dbe7\n",
            "2025-05-05 11:10:29,848 INFO status has been updated to accepted\n",
            "INFO:datapi.legacy_api_client:status has been updated to accepted\n",
            "2025-05-05 11:10:51,892 INFO status has been updated to running\n",
            "INFO:datapi.legacy_api_client:status has been updated to running\n",
            "2025-05-05 11:14:50,468 INFO status has been updated to successful\n",
            "INFO:datapi.legacy_api_client:status has been updated to successful\n"
          ]
        },
        {
          "data": {
            "application/vnd.jupyter.widget-view+json": {
              "model_id": "3ae4a1458b80431a95e621c2b997d24b",
              "version_major": 2,
              "version_minor": 0
            },
            "text/plain": [
              "52eeb29f3a1f70d5ef8d82f166b23450.zip:   0%|          | 0.00/433k [00:00<?, ?B/s]"
            ]
          },
          "metadata": {},
          "output_type": "display_data"
        },
        {
          "name": "stdout",
          "output_type": "stream",
          "text": [
            "✅ Saved: /content/drive/MyDrive/ERA5_REANALYSIS_2012_2024/era5_2024_02.nc\n",
            "🔄 Processing: 2024-03\n"
          ]
        },
        {
          "name": "stderr",
          "output_type": "stream",
          "text": [
            "2025-05-05 11:14:53,591 INFO Request ID is 1d2eb415-4a6b-48b9-9c9d-6168e812c213\n",
            "INFO:datapi.legacy_api_client:Request ID is 1d2eb415-4a6b-48b9-9c9d-6168e812c213\n",
            "2025-05-05 11:14:53,775 INFO status has been updated to accepted\n",
            "INFO:datapi.legacy_api_client:status has been updated to accepted\n",
            "2025-05-05 11:15:15,645 INFO status has been updated to running\n",
            "INFO:datapi.legacy_api_client:status has been updated to running\n",
            "2025-05-05 11:21:14,553 INFO status has been updated to successful\n",
            "INFO:datapi.legacy_api_client:status has been updated to successful\n"
          ]
        },
        {
          "data": {
            "application/vnd.jupyter.widget-view+json": {
              "model_id": "a86b609b21bc4a03b0c8854fff58e7a8",
              "version_major": 2,
              "version_minor": 0
            },
            "text/plain": [
              "b06c2667194bfc8eab31e766be276598.zip:   0%|          | 0.00/464k [00:00<?, ?B/s]"
            ]
          },
          "metadata": {},
          "output_type": "display_data"
        },
        {
          "name": "stdout",
          "output_type": "stream",
          "text": [
            "✅ Saved: /content/drive/MyDrive/ERA5_REANALYSIS_2012_2024/era5_2024_03.nc\n",
            "🔄 Processing: 2024-04\n"
          ]
        },
        {
          "name": "stderr",
          "output_type": "stream",
          "text": [
            "2025-05-05 11:21:17,471 INFO Request ID is 048dacce-0634-4e8a-8e13-25d28dbccc1a\n",
            "INFO:datapi.legacy_api_client:Request ID is 048dacce-0634-4e8a-8e13-25d28dbccc1a\n",
            "2025-05-05 11:21:17,653 INFO status has been updated to accepted\n",
            "INFO:datapi.legacy_api_client:status has been updated to accepted\n",
            "2025-05-05 11:21:51,088 INFO status has been updated to running\n",
            "INFO:datapi.legacy_api_client:status has been updated to running\n",
            "2025-05-05 11:27:38,613 INFO status has been updated to successful\n",
            "INFO:datapi.legacy_api_client:status has been updated to successful\n"
          ]
        },
        {
          "data": {
            "application/vnd.jupyter.widget-view+json": {
              "model_id": "41ac2497c17b452db57056ba7ee30bcf",
              "version_major": 2,
              "version_minor": 0
            },
            "text/plain": [
              "e67e0ccd6bbdaa7e141cc65e70aceee.zip:   0%|          | 0.00/454k [00:00<?, ?B/s]"
            ]
          },
          "metadata": {},
          "output_type": "display_data"
        },
        {
          "name": "stdout",
          "output_type": "stream",
          "text": [
            "✅ Saved: /content/drive/MyDrive/ERA5_REANALYSIS_2012_2024/era5_2024_04.nc\n",
            "🔄 Processing: 2024-05\n"
          ]
        },
        {
          "name": "stderr",
          "output_type": "stream",
          "text": [
            "2025-05-05 11:27:42,494 INFO Request ID is 7a456516-ad14-448d-906f-e4f4fb8f2cd1\n",
            "INFO:datapi.legacy_api_client:Request ID is 7a456516-ad14-448d-906f-e4f4fb8f2cd1\n",
            "2025-05-05 11:27:42,673 INFO status has been updated to accepted\n",
            "INFO:datapi.legacy_api_client:status has been updated to accepted\n",
            "2025-05-05 11:29:37,752 INFO status has been updated to running\n",
            "INFO:datapi.legacy_api_client:status has been updated to running\n",
            "2025-05-05 11:44:05,823 INFO status has been updated to successful\n",
            "INFO:datapi.legacy_api_client:status has been updated to successful\n"
          ]
        },
        {
          "data": {
            "application/vnd.jupyter.widget-view+json": {
              "model_id": "66f955636ad44f3f95ce55e122d159d1",
              "version_major": 2,
              "version_minor": 0
            },
            "text/plain": [
              "8058b7a75fd317bf47eac9f50a143813.zip:   0%|          | 0.00/475k [00:00<?, ?B/s]"
            ]
          },
          "metadata": {},
          "output_type": "display_data"
        },
        {
          "name": "stdout",
          "output_type": "stream",
          "text": [
            "✅ Saved: /content/drive/MyDrive/ERA5_REANALYSIS_2012_2024/era5_2024_05.nc\n",
            "🔄 Processing: 2024-06\n"
          ]
        },
        {
          "name": "stderr",
          "output_type": "stream",
          "text": [
            "2025-05-05 11:44:08,904 INFO Request ID is 6df082aa-a447-48af-92b9-db5bb230c406\n",
            "INFO:datapi.legacy_api_client:Request ID is 6df082aa-a447-48af-92b9-db5bb230c406\n",
            "2025-05-05 11:44:09,082 INFO status has been updated to accepted\n",
            "INFO:datapi.legacy_api_client:status has been updated to accepted\n",
            "2025-05-05 11:44:59,796 INFO status has been updated to running\n",
            "INFO:datapi.legacy_api_client:status has been updated to running\n",
            "2025-05-05 11:47:02,428 INFO status has been updated to successful\n",
            "INFO:datapi.legacy_api_client:status has been updated to successful\n"
          ]
        },
        {
          "data": {
            "application/vnd.jupyter.widget-view+json": {
              "model_id": "8f9d8aedff474e0f99c969c7c2cb39db",
              "version_major": 2,
              "version_minor": 0
            },
            "text/plain": [
              "69e19b4c5a7c51434d15382253d85a80.zip:   0%|          | 0.00/467k [00:00<?, ?B/s]"
            ]
          },
          "metadata": {},
          "output_type": "display_data"
        },
        {
          "name": "stdout",
          "output_type": "stream",
          "text": [
            "✅ Saved: /content/drive/MyDrive/ERA5_REANALYSIS_2012_2024/era5_2024_06.nc\n",
            "🔄 Processing: 2024-07\n"
          ]
        },
        {
          "name": "stderr",
          "output_type": "stream",
          "text": [
            "2025-05-05 11:47:05,367 INFO Request ID is 6b382bce-0a51-4659-ba45-7a30f626608a\n",
            "INFO:datapi.legacy_api_client:Request ID is 6b382bce-0a51-4659-ba45-7a30f626608a\n",
            "2025-05-05 11:47:05,542 INFO status has been updated to accepted\n",
            "INFO:datapi.legacy_api_client:status has been updated to accepted\n",
            "2025-05-05 11:49:59,689 INFO status has been updated to running\n",
            "INFO:datapi.legacy_api_client:status has been updated to running\n",
            "2025-05-05 11:55:27,882 INFO status has been updated to successful\n",
            "INFO:datapi.legacy_api_client:status has been updated to successful\n"
          ]
        },
        {
          "data": {
            "application/vnd.jupyter.widget-view+json": {
              "model_id": "9c64fad339044b80bda671140c8fcd11",
              "version_major": 2,
              "version_minor": 0
            },
            "text/plain": [
              "d5a5d32f41ede864e86243590a68a072.zip:   0%|          | 0.00/477k [00:00<?, ?B/s]"
            ]
          },
          "metadata": {},
          "output_type": "display_data"
        },
        {
          "name": "stdout",
          "output_type": "stream",
          "text": [
            "✅ Saved: /content/drive/MyDrive/ERA5_REANALYSIS_2012_2024/era5_2024_07.nc\n",
            "🔄 Processing: 2024-08\n"
          ]
        },
        {
          "name": "stderr",
          "output_type": "stream",
          "text": [
            "2025-05-05 11:55:31,210 INFO Request ID is e47f5e69-b5af-4184-96d5-50f19d4cd403\n",
            "INFO:datapi.legacy_api_client:Request ID is e47f5e69-b5af-4184-96d5-50f19d4cd403\n",
            "2025-05-05 11:55:31,397 INFO status has been updated to accepted\n",
            "INFO:datapi.legacy_api_client:status has been updated to accepted\n",
            "2025-05-05 11:56:22,101 INFO status has been updated to running\n",
            "INFO:datapi.legacy_api_client:status has been updated to running\n",
            "2025-05-05 12:01:52,153 INFO status has been updated to successful\n",
            "INFO:datapi.legacy_api_client:status has been updated to successful\n"
          ]
        },
        {
          "data": {
            "application/vnd.jupyter.widget-view+json": {
              "model_id": "2d90cbc5d36344888f69651f44a337d5",
              "version_major": 2,
              "version_minor": 0
            },
            "text/plain": [
              "4c4ec07b9ecdd7884a441ff137dacf04.zip:   0%|          | 0.00/468k [00:00<?, ?B/s]"
            ]
          },
          "metadata": {},
          "output_type": "display_data"
        },
        {
          "name": "stdout",
          "output_type": "stream",
          "text": [
            "✅ Saved: /content/drive/MyDrive/ERA5_REANALYSIS_2012_2024/era5_2024_08.nc\n",
            "🔄 Processing: 2024-09\n"
          ]
        },
        {
          "name": "stderr",
          "output_type": "stream",
          "text": [
            "2025-05-05 12:01:55,208 INFO Request ID is dd93d077-c232-479d-a7df-d147cc6c5185\n",
            "INFO:datapi.legacy_api_client:Request ID is dd93d077-c232-479d-a7df-d147cc6c5185\n",
            "2025-05-05 12:01:55,384 INFO status has been updated to accepted\n",
            "INFO:datapi.legacy_api_client:status has been updated to accepted\n",
            "2025-05-05 12:10:16,711 INFO status has been updated to running\n",
            "INFO:datapi.legacy_api_client:status has been updated to running\n",
            "2025-05-05 12:14:17,899 INFO status has been updated to successful\n",
            "INFO:datapi.legacy_api_client:status has been updated to successful\n"
          ]
        },
        {
          "data": {
            "application/vnd.jupyter.widget-view+json": {
              "model_id": "03cd970bea694a37b0f85ae59bafe84c",
              "version_major": 2,
              "version_minor": 0
            },
            "text/plain": [
              "f4c55b16f354fc088b94780cb946fad6.zip:   0%|          | 0.00/458k [00:00<?, ?B/s]"
            ]
          },
          "metadata": {},
          "output_type": "display_data"
        },
        {
          "name": "stdout",
          "output_type": "stream",
          "text": [
            "✅ Saved: /content/drive/MyDrive/ERA5_REANALYSIS_2012_2024/era5_2024_09.nc\n",
            "🔄 Processing: 2024-10\n"
          ]
        },
        {
          "name": "stderr",
          "output_type": "stream",
          "text": [
            "2025-05-05 12:14:20,873 INFO Request ID is 0d9154a2-ada0-47c0-9447-bb02a98e9801\n",
            "INFO:datapi.legacy_api_client:Request ID is 0d9154a2-ada0-47c0-9447-bb02a98e9801\n",
            "2025-05-05 12:14:21,062 INFO status has been updated to accepted\n",
            "INFO:datapi.legacy_api_client:status has been updated to accepted\n",
            "2025-05-05 12:14:43,025 INFO status has been updated to running\n",
            "INFO:datapi.legacy_api_client:status has been updated to running\n",
            "2025-05-05 12:20:42,014 INFO status has been updated to successful\n",
            "INFO:datapi.legacy_api_client:status has been updated to successful\n"
          ]
        },
        {
          "data": {
            "application/vnd.jupyter.widget-view+json": {
              "model_id": "634614af1788428c9a283abf36e67920",
              "version_major": 2,
              "version_minor": 0
            },
            "text/plain": [
              "efb7ab0ea8a5917a6ef9e5015a950554.zip:   0%|          | 0.00/460k [00:00<?, ?B/s]"
            ]
          },
          "metadata": {},
          "output_type": "display_data"
        },
        {
          "name": "stdout",
          "output_type": "stream",
          "text": [
            "✅ Saved: /content/drive/MyDrive/ERA5_REANALYSIS_2012_2024/era5_2024_10.nc\n",
            "🔄 Processing: 2024-11\n"
          ]
        },
        {
          "name": "stderr",
          "output_type": "stream",
          "text": [
            "2025-05-05 12:20:44,993 INFO Request ID is b64e3a62-54cd-4a51-9946-51ba5b367636\n",
            "INFO:datapi.legacy_api_client:Request ID is b64e3a62-54cd-4a51-9946-51ba5b367636\n",
            "2025-05-05 12:20:45,188 INFO status has been updated to accepted\n",
            "INFO:datapi.legacy_api_client:status has been updated to accepted\n",
            "2025-05-05 12:23:38,565 INFO status has been updated to running\n",
            "INFO:datapi.legacy_api_client:status has been updated to running\n",
            "2025-05-05 12:29:06,556 INFO status has been updated to successful\n",
            "INFO:datapi.legacy_api_client:status has been updated to successful\n"
          ]
        },
        {
          "data": {
            "application/vnd.jupyter.widget-view+json": {
              "model_id": "7ec550097c8e4a6e9b21bee24e00f36b",
              "version_major": 2,
              "version_minor": 0
            },
            "text/plain": [
              "f78f6f071714f1d1010c3a454acbb239.zip:   0%|          | 0.00/432k [00:00<?, ?B/s]"
            ]
          },
          "metadata": {},
          "output_type": "display_data"
        },
        {
          "name": "stdout",
          "output_type": "stream",
          "text": [
            "✅ Saved: /content/drive/MyDrive/ERA5_REANALYSIS_2012_2024/era5_2024_11.nc\n",
            "🔄 Processing: 2024-12\n"
          ]
        },
        {
          "name": "stderr",
          "output_type": "stream",
          "text": [
            "2025-05-05 12:29:10,851 INFO Request ID is 65baf29e-afd9-44e7-998b-f94879499896\n",
            "INFO:datapi.legacy_api_client:Request ID is 65baf29e-afd9-44e7-998b-f94879499896\n",
            "2025-05-05 12:29:11,040 INFO status has been updated to accepted\n",
            "INFO:datapi.legacy_api_client:status has been updated to accepted\n",
            "2025-05-05 12:29:25,174 INFO status has been updated to running\n",
            "INFO:datapi.legacy_api_client:status has been updated to running\n",
            "2025-05-05 12:35:31,882 INFO status has been updated to successful\n",
            "INFO:datapi.legacy_api_client:status has been updated to successful\n"
          ]
        },
        {
          "data": {
            "application/vnd.jupyter.widget-view+json": {
              "model_id": "897cc2f4a2904147a32eebdc138cd3cc",
              "version_major": 2,
              "version_minor": 0
            },
            "text/plain": [
              "eb06c213b97ca54c26c93da6e4156de0.zip:   0%|          | 0.00/442k [00:00<?, ?B/s]"
            ]
          },
          "metadata": {},
          "output_type": "display_data"
        },
        {
          "name": "stdout",
          "output_type": "stream",
          "text": [
            "✅ Saved: /content/drive/MyDrive/ERA5_REANALYSIS_2012_2024/era5_2024_12.nc\n"
          ]
        }
      ],
      "source": [
        "import cdsapi\n",
        "import os\n",
        "\n",
        "# Step 1: Save CDS API key\n",
        "cdsapi_content = \"\"\"\n",
        "url: https://cds.climate.copernicus.eu/api\n",
        "key: your key\n",
        "\"\"\"\n",
        "\n",
        "\n",
        "with open(\"/root/.cdsapirc\", \"w\") as f:\n",
        "    f.write(cdsapi_content.strip())\n",
        "\n",
        "print(\"✅ CDS API key saved successfully!\")\n",
        "\n",
        "# Step 2: Create CDS API client\n",
        "c = cdsapi.Client()\n",
        "\n",
        "# Step 3: Define bounding box for Trentino (approx. 1°×1°)\n",
        "area = [46.6, 10.5, 45.8, 11.7]  # [North, West, South, East]\n",
        "\n",
        "# Step 4: Time details\n",
        "days_31 = [f\"{d:02d}\" for d in range(1, 32)]\n",
        "hours = [f\"{h:02d}:00\" for h in range(24)]\n",
        "\n",
        "# Step 5: Output path (Google Drive or local)\n",
        "output_path = \"/content/drive/MyDrive/ERA5_REANALYSIS_2012_2024/\"\n",
        "os.makedirs(output_path, exist_ok=True)\n",
        "\n",
        "# Step 6: Download ERA5 data from 2012 to 2021\n",
        "for year in range(2012, 2025):\n",
        "    for month in range(1, 13):\n",
        "        month_str = f\"{month:02d}\"\n",
        "        print(f\"🔄 Processing: {year}-{month_str}\")\n",
        "\n",
        "        request = {\n",
        "            \"product_type\": \"reanalysis\",\n",
        "            \"format\": \"netcdf\",\n",
        "            \"variable\": [\n",
        "               \"2m_temperature\",\n",
        "               \"2m_dewpoint_temperature\",\n",
        "               \"10m_u_component_of_wind\",\n",
        "               \"10m_v_component_of_wind\",\n",
        "               \"surface_pressure\",\n",
        "               \"total_cloud_cover\",\n",
        "               \"surface_solar_radiation_downwards\",\n",
        "               \"total_precipitation\"\n",
        "            ],\n",
        "            \"year\": str(year),\n",
        "            \"month\": month_str,\n",
        "            \"day\": days_31,\n",
        "            \"time\": hours,\n",
        "            \"area\": area,\n",
        "        }\n",
        "\n",
        "        nc_filename = f\"{output_path}era5_{year}_{month_str}.nc\"\n",
        "\n",
        "        try:\n",
        "            if not os.path.exists(nc_filename):\n",
        "                c.retrieve(\"reanalysis-era5-single-levels\", request, nc_filename)\n",
        "                print(f\"✅ Saved: {nc_filename}\")\n",
        "            else:\n",
        "                print(f\"✔️ Already exists: {nc_filename}\")\n",
        "        except Exception as e:\n",
        "            print(f\"❌ Failed: {year}-{month_str} — {e}\")\n"
      ]
    }
  ],
  "metadata": {
    "accelerator": "TPU",
    "colab": {
      "gpuType": "V28",
      "provenance": [],
      "include_colab_link": true
    },
    "kernelspec": {
      "display_name": "Python 3",
      "name": "python3"
    },
    "language_info": {
      "name": "python"
    }
  },
  "nbformat": 4,
  "nbformat_minor": 0
}